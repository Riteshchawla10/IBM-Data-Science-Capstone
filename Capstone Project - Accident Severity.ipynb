{
 "cells": [
  {
   "cell_type": "markdown",
   "metadata": {},
   "source": [
    "## CAPSTONE PROJECT - ACCIDENT SEVERITY\n",
    "\n",
    "##### To predict severity of accident based on conditions so as person drives carefully or could even change coarse of destination"
   ]
  },
  {
   "cell_type": "code",
   "execution_count": 1,
   "metadata": {},
   "outputs": [],
   "source": [
    "#Importing libraries\n",
    "import pandas as pd\n",
    "import numpy as np\n",
    "import seaborn as sns\n",
    "import matplotlib.pyplot as plt\n",
    "%matplotlib inline\n",
    "import warnings\n",
    "warnings.filterwarnings('ignore')"
   ]
  },
  {
   "cell_type": "code",
   "execution_count": 2,
   "metadata": {},
   "outputs": [],
   "source": [
    "accident_df=pd.read_csv('https://s3.us.cloud-object-storage.appdomain.cloud/cf-courses-data/CognitiveClass/DP0701EN/version-2/Data-Collisions.csv')"
   ]
  },
  {
   "cell_type": "code",
   "execution_count": 3,
   "metadata": {},
   "outputs": [
    {
     "data": {
      "text/html": [
       "<div>\n",
       "<style scoped>\n",
       "    .dataframe tbody tr th:only-of-type {\n",
       "        vertical-align: middle;\n",
       "    }\n",
       "\n",
       "    .dataframe tbody tr th {\n",
       "        vertical-align: top;\n",
       "    }\n",
       "\n",
       "    .dataframe thead th {\n",
       "        text-align: right;\n",
       "    }\n",
       "</style>\n",
       "<table border=\"1\" class=\"dataframe\">\n",
       "  <thead>\n",
       "    <tr style=\"text-align: right;\">\n",
       "      <th></th>\n",
       "      <th>SEVERITYCODE</th>\n",
       "      <th>X</th>\n",
       "      <th>Y</th>\n",
       "      <th>OBJECTID</th>\n",
       "      <th>INCKEY</th>\n",
       "      <th>COLDETKEY</th>\n",
       "      <th>REPORTNO</th>\n",
       "      <th>STATUS</th>\n",
       "      <th>ADDRTYPE</th>\n",
       "      <th>INTKEY</th>\n",
       "      <th>...</th>\n",
       "      <th>ROADCOND</th>\n",
       "      <th>LIGHTCOND</th>\n",
       "      <th>PEDROWNOTGRNT</th>\n",
       "      <th>SDOTCOLNUM</th>\n",
       "      <th>SPEEDING</th>\n",
       "      <th>ST_COLCODE</th>\n",
       "      <th>ST_COLDESC</th>\n",
       "      <th>SEGLANEKEY</th>\n",
       "      <th>CROSSWALKKEY</th>\n",
       "      <th>HITPARKEDCAR</th>\n",
       "    </tr>\n",
       "  </thead>\n",
       "  <tbody>\n",
       "    <tr>\n",
       "      <th>0</th>\n",
       "      <td>2</td>\n",
       "      <td>-122.323148</td>\n",
       "      <td>47.703140</td>\n",
       "      <td>1</td>\n",
       "      <td>1307</td>\n",
       "      <td>1307</td>\n",
       "      <td>3502005</td>\n",
       "      <td>Matched</td>\n",
       "      <td>Intersection</td>\n",
       "      <td>37475.0</td>\n",
       "      <td>...</td>\n",
       "      <td>Wet</td>\n",
       "      <td>Daylight</td>\n",
       "      <td>NaN</td>\n",
       "      <td>NaN</td>\n",
       "      <td>NaN</td>\n",
       "      <td>10</td>\n",
       "      <td>Entering at angle</td>\n",
       "      <td>0</td>\n",
       "      <td>0</td>\n",
       "      <td>N</td>\n",
       "    </tr>\n",
       "    <tr>\n",
       "      <th>1</th>\n",
       "      <td>1</td>\n",
       "      <td>-122.347294</td>\n",
       "      <td>47.647172</td>\n",
       "      <td>2</td>\n",
       "      <td>52200</td>\n",
       "      <td>52200</td>\n",
       "      <td>2607959</td>\n",
       "      <td>Matched</td>\n",
       "      <td>Block</td>\n",
       "      <td>NaN</td>\n",
       "      <td>...</td>\n",
       "      <td>Wet</td>\n",
       "      <td>Dark - Street Lights On</td>\n",
       "      <td>NaN</td>\n",
       "      <td>6354039.0</td>\n",
       "      <td>NaN</td>\n",
       "      <td>11</td>\n",
       "      <td>From same direction - both going straight - bo...</td>\n",
       "      <td>0</td>\n",
       "      <td>0</td>\n",
       "      <td>N</td>\n",
       "    </tr>\n",
       "    <tr>\n",
       "      <th>2</th>\n",
       "      <td>1</td>\n",
       "      <td>-122.334540</td>\n",
       "      <td>47.607871</td>\n",
       "      <td>3</td>\n",
       "      <td>26700</td>\n",
       "      <td>26700</td>\n",
       "      <td>1482393</td>\n",
       "      <td>Matched</td>\n",
       "      <td>Block</td>\n",
       "      <td>NaN</td>\n",
       "      <td>...</td>\n",
       "      <td>Dry</td>\n",
       "      <td>Daylight</td>\n",
       "      <td>NaN</td>\n",
       "      <td>4323031.0</td>\n",
       "      <td>NaN</td>\n",
       "      <td>32</td>\n",
       "      <td>One parked--one moving</td>\n",
       "      <td>0</td>\n",
       "      <td>0</td>\n",
       "      <td>N</td>\n",
       "    </tr>\n",
       "    <tr>\n",
       "      <th>3</th>\n",
       "      <td>1</td>\n",
       "      <td>-122.334803</td>\n",
       "      <td>47.604803</td>\n",
       "      <td>4</td>\n",
       "      <td>1144</td>\n",
       "      <td>1144</td>\n",
       "      <td>3503937</td>\n",
       "      <td>Matched</td>\n",
       "      <td>Block</td>\n",
       "      <td>NaN</td>\n",
       "      <td>...</td>\n",
       "      <td>Dry</td>\n",
       "      <td>Daylight</td>\n",
       "      <td>NaN</td>\n",
       "      <td>NaN</td>\n",
       "      <td>NaN</td>\n",
       "      <td>23</td>\n",
       "      <td>From same direction - all others</td>\n",
       "      <td>0</td>\n",
       "      <td>0</td>\n",
       "      <td>N</td>\n",
       "    </tr>\n",
       "    <tr>\n",
       "      <th>4</th>\n",
       "      <td>2</td>\n",
       "      <td>-122.306426</td>\n",
       "      <td>47.545739</td>\n",
       "      <td>5</td>\n",
       "      <td>17700</td>\n",
       "      <td>17700</td>\n",
       "      <td>1807429</td>\n",
       "      <td>Matched</td>\n",
       "      <td>Intersection</td>\n",
       "      <td>34387.0</td>\n",
       "      <td>...</td>\n",
       "      <td>Wet</td>\n",
       "      <td>Daylight</td>\n",
       "      <td>NaN</td>\n",
       "      <td>4028032.0</td>\n",
       "      <td>NaN</td>\n",
       "      <td>10</td>\n",
       "      <td>Entering at angle</td>\n",
       "      <td>0</td>\n",
       "      <td>0</td>\n",
       "      <td>N</td>\n",
       "    </tr>\n",
       "  </tbody>\n",
       "</table>\n",
       "<p>5 rows × 38 columns</p>\n",
       "</div>"
      ],
      "text/plain": [
       "   SEVERITYCODE           X          Y  OBJECTID  INCKEY  COLDETKEY REPORTNO  \\\n",
       "0             2 -122.323148  47.703140         1    1307       1307  3502005   \n",
       "1             1 -122.347294  47.647172         2   52200      52200  2607959   \n",
       "2             1 -122.334540  47.607871         3   26700      26700  1482393   \n",
       "3             1 -122.334803  47.604803         4    1144       1144  3503937   \n",
       "4             2 -122.306426  47.545739         5   17700      17700  1807429   \n",
       "\n",
       "    STATUS      ADDRTYPE   INTKEY  ... ROADCOND                LIGHTCOND  \\\n",
       "0  Matched  Intersection  37475.0  ...      Wet                 Daylight   \n",
       "1  Matched         Block      NaN  ...      Wet  Dark - Street Lights On   \n",
       "2  Matched         Block      NaN  ...      Dry                 Daylight   \n",
       "3  Matched         Block      NaN  ...      Dry                 Daylight   \n",
       "4  Matched  Intersection  34387.0  ...      Wet                 Daylight   \n",
       "\n",
       "  PEDROWNOTGRNT  SDOTCOLNUM SPEEDING ST_COLCODE  \\\n",
       "0           NaN         NaN      NaN         10   \n",
       "1           NaN   6354039.0      NaN         11   \n",
       "2           NaN   4323031.0      NaN         32   \n",
       "3           NaN         NaN      NaN         23   \n",
       "4           NaN   4028032.0      NaN         10   \n",
       "\n",
       "                                          ST_COLDESC  SEGLANEKEY  \\\n",
       "0                                  Entering at angle           0   \n",
       "1  From same direction - both going straight - bo...           0   \n",
       "2                             One parked--one moving           0   \n",
       "3                   From same direction - all others           0   \n",
       "4                                  Entering at angle           0   \n",
       "\n",
       "   CROSSWALKKEY  HITPARKEDCAR  \n",
       "0             0             N  \n",
       "1             0             N  \n",
       "2             0             N  \n",
       "3             0             N  \n",
       "4             0             N  \n",
       "\n",
       "[5 rows x 38 columns]"
      ]
     },
     "execution_count": 3,
     "metadata": {},
     "output_type": "execute_result"
    }
   ],
   "source": [
    "accident_df.head()"
   ]
  },
  {
   "cell_type": "code",
   "execution_count": 4,
   "metadata": {},
   "outputs": [
    {
     "data": {
      "text/plain": [
       "(194673, 38)"
      ]
     },
     "execution_count": 4,
     "metadata": {},
     "output_type": "execute_result"
    }
   ],
   "source": [
    "accident_df.shape"
   ]
  },
  {
   "cell_type": "code",
   "execution_count": 5,
   "metadata": {},
   "outputs": [
    {
     "data": {
      "text/plain": [
       "Index(['SEVERITYCODE', 'X', 'Y', 'OBJECTID', 'INCKEY', 'COLDETKEY', 'REPORTNO',\n",
       "       'STATUS', 'ADDRTYPE', 'INTKEY', 'LOCATION', 'EXCEPTRSNCODE',\n",
       "       'EXCEPTRSNDESC', 'SEVERITYCODE.1', 'SEVERITYDESC', 'COLLISIONTYPE',\n",
       "       'PERSONCOUNT', 'PEDCOUNT', 'PEDCYLCOUNT', 'VEHCOUNT', 'INCDATE',\n",
       "       'INCDTTM', 'JUNCTIONTYPE', 'SDOT_COLCODE', 'SDOT_COLDESC',\n",
       "       'INATTENTIONIND', 'UNDERINFL', 'WEATHER', 'ROADCOND', 'LIGHTCOND',\n",
       "       'PEDROWNOTGRNT', 'SDOTCOLNUM', 'SPEEDING', 'ST_COLCODE', 'ST_COLDESC',\n",
       "       'SEGLANEKEY', 'CROSSWALKKEY', 'HITPARKEDCAR'],\n",
       "      dtype='object')"
      ]
     },
     "execution_count": 5,
     "metadata": {},
     "output_type": "execute_result"
    }
   ],
   "source": [
    "accident_df.columns"
   ]
  },
  {
   "cell_type": "code",
   "execution_count": 6,
   "metadata": {},
   "outputs": [
    {
     "name": "stdout",
     "output_type": "stream",
     "text": [
      "<class 'pandas.core.frame.DataFrame'>\n",
      "RangeIndex: 194673 entries, 0 to 194672\n",
      "Data columns (total 38 columns):\n",
      " #   Column          Non-Null Count   Dtype  \n",
      "---  ------          --------------   -----  \n",
      " 0   SEVERITYCODE    194673 non-null  int64  \n",
      " 1   X               189339 non-null  float64\n",
      " 2   Y               189339 non-null  float64\n",
      " 3   OBJECTID        194673 non-null  int64  \n",
      " 4   INCKEY          194673 non-null  int64  \n",
      " 5   COLDETKEY       194673 non-null  int64  \n",
      " 6   REPORTNO        194673 non-null  object \n",
      " 7   STATUS          194673 non-null  object \n",
      " 8   ADDRTYPE        192747 non-null  object \n",
      " 9   INTKEY          65070 non-null   float64\n",
      " 10  LOCATION        191996 non-null  object \n",
      " 11  EXCEPTRSNCODE   84811 non-null   object \n",
      " 12  EXCEPTRSNDESC   5638 non-null    object \n",
      " 13  SEVERITYCODE.1  194673 non-null  int64  \n",
      " 14  SEVERITYDESC    194673 non-null  object \n",
      " 15  COLLISIONTYPE   189769 non-null  object \n",
      " 16  PERSONCOUNT     194673 non-null  int64  \n",
      " 17  PEDCOUNT        194673 non-null  int64  \n",
      " 18  PEDCYLCOUNT     194673 non-null  int64  \n",
      " 19  VEHCOUNT        194673 non-null  int64  \n",
      " 20  INCDATE         194673 non-null  object \n",
      " 21  INCDTTM         194673 non-null  object \n",
      " 22  JUNCTIONTYPE    188344 non-null  object \n",
      " 23  SDOT_COLCODE    194673 non-null  int64  \n",
      " 24  SDOT_COLDESC    194673 non-null  object \n",
      " 25  INATTENTIONIND  29805 non-null   object \n",
      " 26  UNDERINFL       189789 non-null  object \n",
      " 27  WEATHER         189592 non-null  object \n",
      " 28  ROADCOND        189661 non-null  object \n",
      " 29  LIGHTCOND       189503 non-null  object \n",
      " 30  PEDROWNOTGRNT   4667 non-null    object \n",
      " 31  SDOTCOLNUM      114936 non-null  float64\n",
      " 32  SPEEDING        9333 non-null    object \n",
      " 33  ST_COLCODE      194655 non-null  object \n",
      " 34  ST_COLDESC      189769 non-null  object \n",
      " 35  SEGLANEKEY      194673 non-null  int64  \n",
      " 36  CROSSWALKKEY    194673 non-null  int64  \n",
      " 37  HITPARKEDCAR    194673 non-null  object \n",
      "dtypes: float64(4), int64(12), object(22)\n",
      "memory usage: 56.4+ MB\n"
     ]
    }
   ],
   "source": [
    "accident_df.info()"
   ]
  },
  {
   "cell_type": "code",
   "execution_count": 7,
   "metadata": {},
   "outputs": [
    {
     "data": {
      "text/plain": [
       "X                   5334\n",
       "Y                   5334\n",
       "ADDRTYPE            1926\n",
       "INTKEY            129603\n",
       "LOCATION            2677\n",
       "EXCEPTRSNCODE     109862\n",
       "EXCEPTRSNDESC     189035\n",
       "COLLISIONTYPE       4904\n",
       "JUNCTIONTYPE        6329\n",
       "INATTENTIONIND    164868\n",
       "UNDERINFL           4884\n",
       "WEATHER             5081\n",
       "ROADCOND            5012\n",
       "LIGHTCOND           5170\n",
       "PEDROWNOTGRNT     190006\n",
       "SDOTCOLNUM         79737\n",
       "SPEEDING          185340\n",
       "ST_COLCODE            18\n",
       "ST_COLDESC          4904\n",
       "dtype: int64"
      ]
     },
     "execution_count": 7,
     "metadata": {},
     "output_type": "execute_result"
    }
   ],
   "source": [
    "blank=accident_df.isnull().sum()\n",
    "blank[blank>0]"
   ]
  },
  {
   "cell_type": "code",
   "execution_count": 8,
   "metadata": {},
   "outputs": [
    {
     "data": {
      "text/plain": [
       "1    136485\n",
       "2     58188\n",
       "Name: SEVERITYCODE, dtype: int64"
      ]
     },
     "execution_count": 8,
     "metadata": {},
     "output_type": "execute_result"
    }
   ],
   "source": [
    "accident_df['SEVERITYCODE'].value_counts()"
   ]
  },
  {
   "cell_type": "code",
   "execution_count": 9,
   "metadata": {},
   "outputs": [
    {
     "data": {
      "text/plain": [
       "<seaborn.axisgrid.FacetGrid at 0x22d829ab1c0>"
      ]
     },
     "execution_count": 9,
     "metadata": {},
     "output_type": "execute_result"
    },
    {
     "data": {
      "image/png": "[encoded data removed]",
      "text/plain": [
       "<Figure size 360x360 with 1 Axes>"
      ]
     },
     "metadata": {
      "needs_background": "light"
     },
     "output_type": "display_data"
    }
   ],
   "source": [
    "sns.catplot(x='SEVERITYDESC',data=accident_df,kind='count')"
   ]
  },
  {
   "cell_type": "code",
   "execution_count": 10,
   "metadata": {},
   "outputs": [
    {
     "data": {
      "text/html": [
       "<div>\n",
       "<style scoped>\n",
       "    .dataframe tbody tr th:only-of-type {\n",
       "        vertical-align: middle;\n",
       "    }\n",
       "\n",
       "    .dataframe tbody tr th {\n",
       "        vertical-align: top;\n",
       "    }\n",
       "\n",
       "    .dataframe thead th {\n",
       "        text-align: right;\n",
       "    }\n",
       "</style>\n",
       "<table border=\"1\" class=\"dataframe\">\n",
       "  <thead>\n",
       "    <tr style=\"text-align: right;\">\n",
       "      <th>SEVERITYDESC</th>\n",
       "      <th>Injury Collision</th>\n",
       "      <th>Property Damage Only Collision</th>\n",
       "    </tr>\n",
       "    <tr>\n",
       "      <th>STATUS</th>\n",
       "      <th></th>\n",
       "      <th></th>\n",
       "    </tr>\n",
       "  </thead>\n",
       "  <tbody>\n",
       "    <tr>\n",
       "      <th>Matched</th>\n",
       "      <td>57159</td>\n",
       "      <td>132627</td>\n",
       "    </tr>\n",
       "    <tr>\n",
       "      <th>Unmatched</th>\n",
       "      <td>1029</td>\n",
       "      <td>3858</td>\n",
       "    </tr>\n",
       "  </tbody>\n",
       "</table>\n",
       "</div>"
      ],
      "text/plain": [
       "SEVERITYDESC  Injury Collision  Property Damage Only Collision\n",
       "STATUS                                                        \n",
       "Matched                  57159                          132627\n",
       "Unmatched                 1029                            3858"
      ]
     },
     "execution_count": 10,
     "metadata": {},
     "output_type": "execute_result"
    }
   ],
   "source": [
    "pd.pivot_table(accident_df,index=['STATUS'],columns=['SEVERITYDESC'],values='SEVERITYCODE',aggfunc='count')"
   ]
  },
  {
   "cell_type": "code",
   "execution_count": 11,
   "metadata": {},
   "outputs": [],
   "source": [
    "#Removing columns 'INTKEY','EXCEPTRSNCODE','EXCEPTRSNDESC'\n",
    "columns_drop=['OBJECTID', 'INCKEY', 'COLDETKEY', 'REPORTNO', 'STATUS']\n",
    "accident_df.drop(['INTKEY','EXCEPTRSNCODE','EXCEPTRSNDESC'],inplace=True,axis=1)"
   ]
  },
  {
   "cell_type": "code",
   "execution_count": 12,
   "metadata": {},
   "outputs": [],
   "source": [
    "accident_df['INATTENTIONIND'].replace(\"Y\",1,inplace=True)\n",
    "accident_df['INATTENTIONIND'].replace(np.nan,0,inplace=True)\n",
    "\n",
    "accident_df['PEDROWNOTGRNT'].replace(\"Y\",1,inplace=True)\n",
    "accident_df['PEDROWNOTGRNT'].replace(np.nan,0,inplace=True)\n",
    "\n",
    "accident_df['SPEEDING'].replace(\"Y\",1,inplace=True)\n",
    "accident_df['SPEEDING'].replace(np.nan,0,inplace=True)\n",
    "\n",
    "accident_df['UNDERINFL'].replace([\"Y\",\"1\"],1,inplace=True)\n",
    "accident_df['UNDERINFL'].replace([\"N\",np.nan,\"0\"],0,inplace=True)"
   ]
  },
  {
   "cell_type": "code",
   "execution_count": 13,
   "metadata": {},
   "outputs": [
    {
     "data": {
      "text/plain": [
       "0.0    164868\n",
       "1.0     29805\n",
       "Name: INATTENTIONIND, dtype: int64"
      ]
     },
     "execution_count": 13,
     "metadata": {},
     "output_type": "execute_result"
    }
   ],
   "source": [
    "accident_df['INATTENTIONIND'].value_counts()"
   ]
  },
  {
   "cell_type": "code",
   "execution_count": 14,
   "metadata": {},
   "outputs": [
    {
     "data": {
      "text/plain": [
       "0.0    190006\n",
       "1.0      4667\n",
       "Name: PEDROWNOTGRNT, dtype: int64"
      ]
     },
     "execution_count": 14,
     "metadata": {},
     "output_type": "execute_result"
    }
   ],
   "source": [
    "accident_df['PEDROWNOTGRNT'].value_counts()"
   ]
  },
  {
   "cell_type": "code",
   "execution_count": 15,
   "metadata": {},
   "outputs": [
    {
     "data": {
      "text/plain": [
       "0.0    185340\n",
       "1.0      9333\n",
       "Name: SPEEDING, dtype: int64"
      ]
     },
     "execution_count": 15,
     "metadata": {},
     "output_type": "execute_result"
    }
   ],
   "source": [
    "accident_df['SPEEDING'].value_counts()"
   ]
  },
  {
   "cell_type": "code",
   "execution_count": 16,
   "metadata": {},
   "outputs": [
    {
     "data": {
      "text/plain": [
       "0    185552\n",
       "1      9121\n",
       "Name: UNDERINFL, dtype: int64"
      ]
     },
     "execution_count": 16,
     "metadata": {},
     "output_type": "execute_result"
    }
   ],
   "source": [
    "accident_df['UNDERINFL'].value_counts()"
   ]
  },
  {
   "cell_type": "code",
   "execution_count": 17,
   "metadata": {},
   "outputs": [
    {
     "data": {
      "text/plain": [
       "Matched      189786\n",
       "Unmatched      4887\n",
       "Name: STATUS, dtype: int64"
      ]
     },
     "execution_count": 17,
     "metadata": {},
     "output_type": "execute_result"
    }
   ],
   "source": [
    "accident_df['STATUS'].value_counts()"
   ]
  },
  {
   "cell_type": "code",
   "execution_count": 18,
   "metadata": {},
   "outputs": [
    {
     "data": {
      "text/plain": [
       "Block           126926\n",
       "Intersection     65070\n",
       "Alley              751\n",
       "Name: ADDRTYPE, dtype: int64"
      ]
     },
     "execution_count": 18,
     "metadata": {},
     "output_type": "execute_result"
    }
   ],
   "source": [
    "accident_df['ADDRTYPE'].value_counts()"
   ]
  },
  {
   "cell_type": "code",
   "execution_count": 19,
   "metadata": {},
   "outputs": [
    {
     "data": {
      "text/html": [
       "<div>\n",
       "<style scoped>\n",
       "    .dataframe tbody tr th:only-of-type {\n",
       "        vertical-align: middle;\n",
       "    }\n",
       "\n",
       "    .dataframe tbody tr th {\n",
       "        vertical-align: top;\n",
       "    }\n",
       "\n",
       "    .dataframe thead th {\n",
       "        text-align: right;\n",
       "    }\n",
       "</style>\n",
       "<table border=\"1\" class=\"dataframe\">\n",
       "  <thead>\n",
       "    <tr style=\"text-align: right;\">\n",
       "      <th>ADDRTYPE</th>\n",
       "      <th>Alley</th>\n",
       "      <th>Block</th>\n",
       "      <th>Intersection</th>\n",
       "    </tr>\n",
       "    <tr>\n",
       "      <th>SEVERITYDESC</th>\n",
       "      <th></th>\n",
       "      <th></th>\n",
       "      <th></th>\n",
       "    </tr>\n",
       "  </thead>\n",
       "  <tbody>\n",
       "    <tr>\n",
       "      <th>Injury Collision</th>\n",
       "      <td>82</td>\n",
       "      <td>30096</td>\n",
       "      <td>27819</td>\n",
       "    </tr>\n",
       "    <tr>\n",
       "      <th>Property Damage Only Collision</th>\n",
       "      <td>669</td>\n",
       "      <td>96830</td>\n",
       "      <td>37251</td>\n",
       "    </tr>\n",
       "  </tbody>\n",
       "</table>\n",
       "</div>"
      ],
      "text/plain": [
       "ADDRTYPE                        Alley  Block  Intersection\n",
       "SEVERITYDESC                                              \n",
       "Injury Collision                   82  30096         27819\n",
       "Property Damage Only Collision    669  96830         37251"
      ]
     },
     "execution_count": 19,
     "metadata": {},
     "output_type": "execute_result"
    },
    {
     "data": {
      "image/png": "[encoded data removed]",
      "text/plain": [
       "<Figure size 432x288 with 1 Axes>"
      ]
     },
     "metadata": {
      "needs_background": "light"
     },
     "output_type": "display_data"
    }
   ],
   "source": [
    "#Intersection more percentage of INJURY accident, block has very number of property damage accidents\n",
    "sns.countplot(x='ADDRTYPE',hue='SEVERITYCODE',data=accident_df)\n",
    "pd.pivot_table(accident_df,index=['SEVERITYDESC'],columns=['ADDRTYPE'],values='SEVERITYCODE',aggfunc='count')"
   ]
  },
  {
   "cell_type": "code",
   "execution_count": 20,
   "metadata": {},
   "outputs": [],
   "source": [
    "accident_df['ADDRTYPE'].replace('Intersection',1,inplace=True)\n",
    "accident_df['ADDRTYPE'].replace('Block',2,inplace=True)\n",
    "accident_df['ADDRTYPE'].replace('Alley',0,inplace=True)"
   ]
  },
  {
   "cell_type": "code",
   "execution_count": 21,
   "metadata": {},
   "outputs": [
    {
     "data": {
      "text/plain": [
       "Parked Car    47987\n",
       "Angles        34674\n",
       "Rear Ended    34090\n",
       "Other         23703\n",
       "Sideswipe     18609\n",
       "Left Turn     13703\n",
       "Pedestrian     6608\n",
       "Cycles         5415\n",
       "Right Turn     2956\n",
       "Head On        2024\n",
       "Name: COLLISIONTYPE, dtype: int64"
      ]
     },
     "execution_count": 21,
     "metadata": {},
     "output_type": "execute_result"
    }
   ],
   "source": [
    "accident_df['COLLISIONTYPE'].value_counts()"
   ]
  },
  {
   "cell_type": "code",
   "execution_count": 23,
   "metadata": {},
   "outputs": [
    {
     "data": {
      "text/plain": [
       "<seaborn.axisgrid.FacetGrid at 0x22d830208e0>"
      ]
     },
     "execution_count": 23,
     "metadata": {},
     "output_type": "execute_result"
    },
    {
     "data": {
      "text/plain": [
       "<Figure size 720x720 with 0 Axes>"
      ]
     },
     "metadata": {},
     "output_type": "display_data"
    },
    {
     "data": {
      "image/png": "[encoded data removed]",
      "text/plain": [
       "<Figure size 780.75x360 with 2 Axes>"
      ]
     },
     "metadata": {
      "needs_background": "light"
     },
     "output_type": "display_data"
    }
   ],
   "source": [
    "#Cyclist and Pedestrian have injury collisions\n",
    "#Parked Car collosion with property damage mostly occur in block\n",
    "#Rear ended have high number of injury collision\n",
    "plt.figure(figsize=(10,10))\n",
    "sns.catplot(y='COLLISIONTYPE',col='SEVERITYCODE',hue='ADDRTYPE',data=accident_df,kind='count',aspect=1)"
   ]
  },
  {
   "cell_type": "code",
   "execution_count": 24,
   "metadata": {},
   "outputs": [
    {
     "data": {
      "text/plain": [
       "Mid-Block (not related to intersection)              89800\n",
       "At Intersection (intersection related)               62810\n",
       "Mid-Block (but intersection related)                 22790\n",
       "Driveway Junction                                    10671\n",
       "At Intersection (but not related to intersection)     2098\n",
       "Ramp Junction                                          166\n",
       "Unknown                                                  9\n",
       "Name: JUNCTIONTYPE, dtype: int64"
      ]
     },
     "execution_count": 24,
     "metadata": {},
     "output_type": "execute_result"
    }
   ],
   "source": [
    "accident_df['JUNCTIONTYPE'].value_counts()"
   ]
  },
  {
   "cell_type": "code",
   "execution_count": 25,
   "metadata": {},
   "outputs": [
    {
     "data": {
      "text/plain": [
       "<matplotlib.legend.Legend at 0x22d83020be0>"
      ]
     },
     "execution_count": 25,
     "metadata": {},
     "output_type": "execute_result"
    },
    {
     "data": {
      "image/png": "[encoded data removed]",
      "text/plain": [
       "<Figure size 720x432 with 1 Axes>"
      ]
     },
     "metadata": {
      "needs_background": "light"
     },
     "output_type": "display_data"
    }
   ],
   "source": [
    "#At interscetion has high percentage of inguiry collision\n",
    "plt.figure(figsize=(10,6))\n",
    "sns.countplot(y='JUNCTIONTYPE',hue='SEVERITYCODE',data=accident_df)\n",
    "plt.legend(loc='upper right')"
   ]
  },
  {
   "cell_type": "code",
   "execution_count": 26,
   "metadata": {},
   "outputs": [],
   "source": [
    "accident_df['JUNCTIONTYPE'].replace('At Intersection (but not related to intersection)',1,inplace=True)\n",
    "accident_df['JUNCTIONTYPE'].replace('At Intersection (intersection related)',2,inplace=True)\n",
    "accident_df['JUNCTIONTYPE'].replace('Driveway Junction',3,inplace=True)\n",
    "accident_df['JUNCTIONTYPE'].replace('Mid-Block (but intersection related)',4,inplace=True)\n",
    "accident_df['JUNCTIONTYPE'].replace('Mid-Block (not related to intersection)',5,inplace=True)\n",
    "accident_df['JUNCTIONTYPE'].replace('Ramp Junction',6,inplace=True)\n",
    "accident_df['JUNCTIONTYPE'].replace('Unknown',0,inplace=True)"
   ]
  },
  {
   "cell_type": "code",
   "execution_count": 27,
   "metadata": {},
   "outputs": [
    {
     "data": {
      "text/plain": [
       "DRIVERLESS VEHICLE RAN OFF ROAD - HIT FIXED OBJECT                107\n",
       "DRIVERLESS VEHICLE RAN OFF ROAD - NO COLLISION                      1\n",
       "DRIVERLESS VEHICLE STRUCK MOTOR VEHICLE FRONT END AT ANGLE        104\n",
       "DRIVERLESS VEHICLE STRUCK MOTOR VEHICLE LEFT SIDE AT ANGLE         53\n",
       "DRIVERLESS VEHICLE STRUCK MOTOR VEHICLE LEFT SIDE SIDESWIPE         4\n",
       "DRIVERLESS VEHICLE STRUCK MOTOR VEHICLE REAR END                   93\n",
       "DRIVERLESS VEHICLE STRUCK MOTOR VEHICLE RIGHT SIDE AT ANGLE        12\n",
       "DRIVERLESS VEHICLE STRUCK MOTOR VEHICLE RIGHT SIDE SIDESWIPE        6\n",
       "DRIVERLESS VEHICLE STRUCK OBJECT IN ROADWAY                         3\n",
       "DRIVERLESS VEHICLE STRUCK PEDESTRIAN                                8\n",
       "MOTOR VEHCILE STRUCK PEDESTRIAN                                  6518\n",
       "MOTOR VEHICLE OVERTURNED IN ROAD                                  479\n",
       "MOTOR VEHICLE RAN OFF ROAD - HIT FIXED OBJECT                    8856\n",
       "MOTOR VEHICLE RAN OFF ROAD - NO COLLISION                         166\n",
       "MOTOR VEHICLE STRUCK MOTOR VEHICLE, FRONT END AT ANGLE          85209\n",
       "MOTOR VEHICLE STRUCK MOTOR VEHICLE, LEFT SIDE AT ANGLE           5852\n",
       "MOTOR VEHICLE STRUCK MOTOR VEHICLE, LEFT SIDE SIDESWIPE          9928\n",
       "MOTOR VEHICLE STRUCK MOTOR VEHICLE, REAR END                    54299\n",
       "MOTOR VEHICLE STRUCK MOTOR VEHICLE, RIGHT SIDE AT ANGLE          1440\n",
       "MOTOR VEHICLE STRUCK MOTOR VEHICLE, RIGHT SIDE SIDESWIPE         1604\n",
       "MOTOR VEHICLE STRUCK OBJECT IN ROAD                              4741\n",
       "MOTOR VEHICLE STRUCK PEDALCYCLIST, FRONT END AT ANGLE            3104\n",
       "MOTOR VEHICLE STRUCK PEDALCYCLIST, LEFT SIDE SIDESWIPE            124\n",
       "MOTOR VEHICLE STRUCK PEDALCYCLIST, REAR END                       181\n",
       "MOTOR VEHICLE STRUCK PEDALCYCLIST, RIGHT SIDE SIDESWIPE            17\n",
       "MOTOR VEHICLE STRUCK TRAIN                                        102\n",
       "NOT ENOUGH INFORMATION / NOT APPLICABLE                          9787\n",
       "PEDALCYCLIST OVERTURNED IN ROAD                                    69\n",
       "PEDALCYCLIST RAN OFF ROAD - HIT FIXED OBJECT                        4\n",
       "PEDALCYCLIST STRUCK MOTOR VEHICLE FRONT END AT ANGLE             1312\n",
       "PEDALCYCLIST STRUCK MOTOR VEHICLE LEFT SIDE AT ANGLE                9\n",
       "PEDALCYCLIST STRUCK MOTOR VEHICLE LEFT SIDE SIDESWIPE             180\n",
       "PEDALCYCLIST STRUCK MOTOR VEHICLE REAR END                        139\n",
       "PEDALCYCLIST STRUCK MOTOR VEHICLE RIGHT SIDE AT ANGLE               2\n",
       "PEDALCYCLIST STRUCK MOTOR VEHICLE RIGHT SIDE SIDESWIPE             50\n",
       "PEDALCYCLIST STRUCK OBJECT IN ROAD                                 23\n",
       "PEDALCYCLIST STRUCK PEDALCYCLIST FRONT END AT ANGLE                 5\n",
       "PEDALCYCLIST STRUCK PEDALCYCLIST REAR END                           7\n",
       "PEDALCYCLIST STRUCK PEDESTRIAN                                     75\n",
       "Name: SDOT_COLDESC, dtype: int64"
      ]
     },
     "execution_count": 27,
     "metadata": {},
     "output_type": "execute_result"
    }
   ],
   "source": [
    "accident_df['SDOT_COLDESC'].value_counts().sort_index()"
   ]
  },
  {
   "cell_type": "code",
   "execution_count": 28,
   "metadata": {},
   "outputs": [
    {
     "data": {
      "text/plain": [
       "SDOT_COLCODE  SDOT_COLDESC                                                \n",
       "0             NOT ENOUGH INFORMATION / NOT APPLICABLE                          9787\n",
       "11            MOTOR VEHICLE STRUCK MOTOR VEHICLE, FRONT END AT ANGLE          85209\n",
       "12            MOTOR VEHICLE STRUCK MOTOR VEHICLE, RIGHT SIDE AT ANGLE          1440\n",
       "13            MOTOR VEHICLE STRUCK MOTOR VEHICLE, LEFT SIDE AT ANGLE           5852\n",
       "14            MOTOR VEHICLE STRUCK MOTOR VEHICLE, REAR END                    54299\n",
       "15            MOTOR VEHICLE STRUCK MOTOR VEHICLE, RIGHT SIDE SIDESWIPE         1604\n",
       "16            MOTOR VEHICLE STRUCK MOTOR VEHICLE, LEFT SIDE SIDESWIPE          9928\n",
       "18            MOTOR VEHICLE STRUCK PEDALCYCLIST, FRONT END AT ANGLE            3104\n",
       "21            MOTOR VEHICLE STRUCK PEDALCYCLIST, REAR END                       181\n",
       "22            MOTOR VEHICLE STRUCK PEDALCYCLIST, RIGHT SIDE SIDESWIPE            17\n",
       "23            MOTOR VEHICLE STRUCK PEDALCYCLIST, LEFT SIDE SIDESWIPE            124\n",
       "24            MOTOR VEHCILE STRUCK PEDESTRIAN                                  6518\n",
       "25            MOTOR VEHICLE STRUCK TRAIN                                        102\n",
       "26            MOTOR VEHICLE STRUCK OBJECT IN ROAD                              4741\n",
       "27            MOTOR VEHICLE RAN OFF ROAD - NO COLLISION                         166\n",
       "28            MOTOR VEHICLE RAN OFF ROAD - HIT FIXED OBJECT                    8856\n",
       "29            MOTOR VEHICLE OVERTURNED IN ROAD                                  479\n",
       "31            DRIVERLESS VEHICLE STRUCK MOTOR VEHICLE FRONT END AT ANGLE        104\n",
       "32            DRIVERLESS VEHICLE STRUCK MOTOR VEHICLE RIGHT SIDE AT ANGLE        12\n",
       "33            DRIVERLESS VEHICLE STRUCK MOTOR VEHICLE LEFT SIDE AT ANGLE         53\n",
       "34            DRIVERLESS VEHICLE STRUCK MOTOR VEHICLE REAR END                   93\n",
       "35            DRIVERLESS VEHICLE STRUCK MOTOR VEHICLE RIGHT SIDE SIDESWIPE        6\n",
       "36            DRIVERLESS VEHICLE STRUCK MOTOR VEHICLE LEFT SIDE SIDESWIPE         4\n",
       "44            DRIVERLESS VEHICLE STRUCK PEDESTRIAN                                8\n",
       "46            DRIVERLESS VEHICLE STRUCK OBJECT IN ROADWAY                         3\n",
       "47            DRIVERLESS VEHICLE RAN OFF ROAD - NO COLLISION                      1\n",
       "48            DRIVERLESS VEHICLE RAN OFF ROAD - HIT FIXED OBJECT                107\n",
       "51            PEDALCYCLIST STRUCK MOTOR VEHICLE FRONT END AT ANGLE             1312\n",
       "52            PEDALCYCLIST STRUCK MOTOR VEHICLE RIGHT SIDE AT ANGLE               2\n",
       "53            PEDALCYCLIST STRUCK MOTOR VEHICLE LEFT SIDE AT ANGLE                9\n",
       "54            PEDALCYCLIST STRUCK MOTOR VEHICLE REAR END                        139\n",
       "55            PEDALCYCLIST STRUCK MOTOR VEHICLE RIGHT SIDE SIDESWIPE             50\n",
       "56            PEDALCYCLIST STRUCK MOTOR VEHICLE LEFT SIDE SIDESWIPE             180\n",
       "58            PEDALCYCLIST STRUCK PEDALCYCLIST FRONT END AT ANGLE                 5\n",
       "61            PEDALCYCLIST STRUCK PEDALCYCLIST REAR END                           7\n",
       "64            PEDALCYCLIST STRUCK PEDESTRIAN                                     75\n",
       "66            PEDALCYCLIST STRUCK OBJECT IN ROAD                                 23\n",
       "68            PEDALCYCLIST RAN OFF ROAD - HIT FIXED OBJECT                        4\n",
       "69            PEDALCYCLIST OVERTURNED IN ROAD                                    69\n",
       "Name: SDOT_COLCODE, dtype: int64"
      ]
     },
     "execution_count": 28,
     "metadata": {},
     "output_type": "execute_result"
    }
   ],
   "source": [
    "accident_df.groupby(['SDOT_COLCODE','SDOT_COLDESC'])['SDOT_COLCODE'].agg('count')"
   ]
  },
  {
   "cell_type": "code",
   "execution_count": 29,
   "metadata": {},
   "outputs": [
    {
     "data": {
      "text/html": [
       "<div>\n",
       "<style scoped>\n",
       "    .dataframe tbody tr th:only-of-type {\n",
       "        vertical-align: middle;\n",
       "    }\n",
       "\n",
       "    .dataframe tbody tr th {\n",
       "        vertical-align: top;\n",
       "    }\n",
       "\n",
       "    .dataframe thead th {\n",
       "        text-align: right;\n",
       "    }\n",
       "</style>\n",
       "<table border=\"1\" class=\"dataframe\">\n",
       "  <thead>\n",
       "    <tr style=\"text-align: right;\">\n",
       "      <th></th>\n",
       "      <th>SEVERITYDESC</th>\n",
       "      <th>Injury Collision</th>\n",
       "      <th>Property Damage Only Collision</th>\n",
       "    </tr>\n",
       "    <tr>\n",
       "      <th>SDOT_COLCODE</th>\n",
       "      <th>SDOT_COLDESC</th>\n",
       "      <th></th>\n",
       "      <th></th>\n",
       "    </tr>\n",
       "  </thead>\n",
       "  <tbody>\n",
       "    <tr>\n",
       "      <th>0</th>\n",
       "      <th>NOT ENOUGH INFORMATION / NOT APPLICABLE</th>\n",
       "      <td>708.0</td>\n",
       "      <td>9079.0</td>\n",
       "    </tr>\n",
       "    <tr>\n",
       "      <th>11</th>\n",
       "      <th>MOTOR VEHICLE STRUCK MOTOR VEHICLE, FRONT END AT ANGLE</th>\n",
       "      <td>24338.0</td>\n",
       "      <td>60871.0</td>\n",
       "    </tr>\n",
       "    <tr>\n",
       "      <th>12</th>\n",
       "      <th>MOTOR VEHICLE STRUCK MOTOR VEHICLE, RIGHT SIDE AT ANGLE</th>\n",
       "      <td>27.0</td>\n",
       "      <td>1413.0</td>\n",
       "    </tr>\n",
       "    <tr>\n",
       "      <th>13</th>\n",
       "      <th>MOTOR VEHICLE STRUCK MOTOR VEHICLE, LEFT SIDE AT ANGLE</th>\n",
       "      <td>199.0</td>\n",
       "      <td>5653.0</td>\n",
       "    </tr>\n",
       "    <tr>\n",
       "      <th>14</th>\n",
       "      <th>MOTOR VEHICLE STRUCK MOTOR VEHICLE, REAR END</th>\n",
       "      <td>17748.0</td>\n",
       "      <td>36551.0</td>\n",
       "    </tr>\n",
       "    <tr>\n",
       "      <th>15</th>\n",
       "      <th>MOTOR VEHICLE STRUCK MOTOR VEHICLE, RIGHT SIDE SIDESWIPE</th>\n",
       "      <td>75.0</td>\n",
       "      <td>1529.0</td>\n",
       "    </tr>\n",
       "    <tr>\n",
       "      <th>16</th>\n",
       "      <th>MOTOR VEHICLE STRUCK MOTOR VEHICLE, LEFT SIDE SIDESWIPE</th>\n",
       "      <td>692.0</td>\n",
       "      <td>9236.0</td>\n",
       "    </tr>\n",
       "    <tr>\n",
       "      <th>18</th>\n",
       "      <th>MOTOR VEHICLE STRUCK PEDALCYCLIST, FRONT END AT ANGLE</th>\n",
       "      <td>2734.0</td>\n",
       "      <td>370.0</td>\n",
       "    </tr>\n",
       "    <tr>\n",
       "      <th>21</th>\n",
       "      <th>MOTOR VEHICLE STRUCK PEDALCYCLIST, REAR END</th>\n",
       "      <td>140.0</td>\n",
       "      <td>41.0</td>\n",
       "    </tr>\n",
       "    <tr>\n",
       "      <th>22</th>\n",
       "      <th>MOTOR VEHICLE STRUCK PEDALCYCLIST, RIGHT SIDE SIDESWIPE</th>\n",
       "      <td>16.0</td>\n",
       "      <td>1.0</td>\n",
       "    </tr>\n",
       "    <tr>\n",
       "      <th>23</th>\n",
       "      <th>MOTOR VEHICLE STRUCK PEDALCYCLIST, LEFT SIDE SIDESWIPE</th>\n",
       "      <td>93.0</td>\n",
       "      <td>31.0</td>\n",
       "    </tr>\n",
       "    <tr>\n",
       "      <th>24</th>\n",
       "      <th>MOTOR VEHCILE STRUCK PEDESTRIAN</th>\n",
       "      <td>5853.0</td>\n",
       "      <td>665.0</td>\n",
       "    </tr>\n",
       "    <tr>\n",
       "      <th>25</th>\n",
       "      <th>MOTOR VEHICLE STRUCK TRAIN</th>\n",
       "      <td>20.0</td>\n",
       "      <td>82.0</td>\n",
       "    </tr>\n",
       "    <tr>\n",
       "      <th>26</th>\n",
       "      <th>MOTOR VEHICLE STRUCK OBJECT IN ROAD</th>\n",
       "      <td>1173.0</td>\n",
       "      <td>3568.0</td>\n",
       "    </tr>\n",
       "    <tr>\n",
       "      <th>27</th>\n",
       "      <th>MOTOR VEHICLE RAN OFF ROAD - NO COLLISION</th>\n",
       "      <td>36.0</td>\n",
       "      <td>130.0</td>\n",
       "    </tr>\n",
       "    <tr>\n",
       "      <th>28</th>\n",
       "      <th>MOTOR VEHICLE RAN OFF ROAD - HIT FIXED OBJECT</th>\n",
       "      <td>2282.0</td>\n",
       "      <td>6574.0</td>\n",
       "    </tr>\n",
       "    <tr>\n",
       "      <th>29</th>\n",
       "      <th>MOTOR VEHICLE OVERTURNED IN ROAD</th>\n",
       "      <td>361.0</td>\n",
       "      <td>118.0</td>\n",
       "    </tr>\n",
       "    <tr>\n",
       "      <th>31</th>\n",
       "      <th>DRIVERLESS VEHICLE STRUCK MOTOR VEHICLE FRONT END AT ANGLE</th>\n",
       "      <td>7.0</td>\n",
       "      <td>97.0</td>\n",
       "    </tr>\n",
       "    <tr>\n",
       "      <th>32</th>\n",
       "      <th>DRIVERLESS VEHICLE STRUCK MOTOR VEHICLE RIGHT SIDE AT ANGLE</th>\n",
       "      <td>1.0</td>\n",
       "      <td>11.0</td>\n",
       "    </tr>\n",
       "    <tr>\n",
       "      <th>33</th>\n",
       "      <th>DRIVERLESS VEHICLE STRUCK MOTOR VEHICLE LEFT SIDE AT ANGLE</th>\n",
       "      <td>2.0</td>\n",
       "      <td>51.0</td>\n",
       "    </tr>\n",
       "    <tr>\n",
       "      <th>34</th>\n",
       "      <th>DRIVERLESS VEHICLE STRUCK MOTOR VEHICLE REAR END</th>\n",
       "      <td>9.0</td>\n",
       "      <td>84.0</td>\n",
       "    </tr>\n",
       "    <tr>\n",
       "      <th>35</th>\n",
       "      <th>DRIVERLESS VEHICLE STRUCK MOTOR VEHICLE RIGHT SIDE SIDESWIPE</th>\n",
       "      <td>1.0</td>\n",
       "      <td>5.0</td>\n",
       "    </tr>\n",
       "    <tr>\n",
       "      <th>36</th>\n",
       "      <th>DRIVERLESS VEHICLE STRUCK MOTOR VEHICLE LEFT SIDE SIDESWIPE</th>\n",
       "      <td>1.0</td>\n",
       "      <td>3.0</td>\n",
       "    </tr>\n",
       "    <tr>\n",
       "      <th>44</th>\n",
       "      <th>DRIVERLESS VEHICLE STRUCK PEDESTRIAN</th>\n",
       "      <td>8.0</td>\n",
       "      <td>NaN</td>\n",
       "    </tr>\n",
       "    <tr>\n",
       "      <th>46</th>\n",
       "      <th>DRIVERLESS VEHICLE STRUCK OBJECT IN ROADWAY</th>\n",
       "      <td>NaN</td>\n",
       "      <td>3.0</td>\n",
       "    </tr>\n",
       "    <tr>\n",
       "      <th>47</th>\n",
       "      <th>DRIVERLESS VEHICLE RAN OFF ROAD - NO COLLISION</th>\n",
       "      <td>NaN</td>\n",
       "      <td>1.0</td>\n",
       "    </tr>\n",
       "    <tr>\n",
       "      <th>48</th>\n",
       "      <th>DRIVERLESS VEHICLE RAN OFF ROAD - HIT FIXED OBJECT</th>\n",
       "      <td>11.0</td>\n",
       "      <td>96.0</td>\n",
       "    </tr>\n",
       "    <tr>\n",
       "      <th>51</th>\n",
       "      <th>PEDALCYCLIST STRUCK MOTOR VEHICLE FRONT END AT ANGLE</th>\n",
       "      <td>1160.0</td>\n",
       "      <td>152.0</td>\n",
       "    </tr>\n",
       "    <tr>\n",
       "      <th>52</th>\n",
       "      <th>PEDALCYCLIST STRUCK MOTOR VEHICLE RIGHT SIDE AT ANGLE</th>\n",
       "      <td>1.0</td>\n",
       "      <td>1.0</td>\n",
       "    </tr>\n",
       "    <tr>\n",
       "      <th>53</th>\n",
       "      <th>PEDALCYCLIST STRUCK MOTOR VEHICLE LEFT SIDE AT ANGLE</th>\n",
       "      <td>7.0</td>\n",
       "      <td>2.0</td>\n",
       "    </tr>\n",
       "    <tr>\n",
       "      <th>54</th>\n",
       "      <th>PEDALCYCLIST STRUCK MOTOR VEHICLE REAR END</th>\n",
       "      <td>107.0</td>\n",
       "      <td>32.0</td>\n",
       "    </tr>\n",
       "    <tr>\n",
       "      <th>55</th>\n",
       "      <th>PEDALCYCLIST STRUCK MOTOR VEHICLE RIGHT SIDE SIDESWIPE</th>\n",
       "      <td>40.0</td>\n",
       "      <td>10.0</td>\n",
       "    </tr>\n",
       "    <tr>\n",
       "      <th>56</th>\n",
       "      <th>PEDALCYCLIST STRUCK MOTOR VEHICLE LEFT SIDE SIDESWIPE</th>\n",
       "      <td>161.0</td>\n",
       "      <td>19.0</td>\n",
       "    </tr>\n",
       "    <tr>\n",
       "      <th>58</th>\n",
       "      <th>PEDALCYCLIST STRUCK PEDALCYCLIST FRONT END AT ANGLE</th>\n",
       "      <td>5.0</td>\n",
       "      <td>NaN</td>\n",
       "    </tr>\n",
       "    <tr>\n",
       "      <th>61</th>\n",
       "      <th>PEDALCYCLIST STRUCK PEDALCYCLIST REAR END</th>\n",
       "      <td>7.0</td>\n",
       "      <td>NaN</td>\n",
       "    </tr>\n",
       "    <tr>\n",
       "      <th>64</th>\n",
       "      <th>PEDALCYCLIST STRUCK PEDESTRIAN</th>\n",
       "      <td>72.0</td>\n",
       "      <td>3.0</td>\n",
       "    </tr>\n",
       "    <tr>\n",
       "      <th>66</th>\n",
       "      <th>PEDALCYCLIST STRUCK OBJECT IN ROAD</th>\n",
       "      <td>22.0</td>\n",
       "      <td>1.0</td>\n",
       "    </tr>\n",
       "    <tr>\n",
       "      <th>68</th>\n",
       "      <th>PEDALCYCLIST RAN OFF ROAD - HIT FIXED OBJECT</th>\n",
       "      <td>3.0</td>\n",
       "      <td>1.0</td>\n",
       "    </tr>\n",
       "    <tr>\n",
       "      <th>69</th>\n",
       "      <th>PEDALCYCLIST OVERTURNED IN ROAD</th>\n",
       "      <td>68.0</td>\n",
       "      <td>1.0</td>\n",
       "    </tr>\n",
       "  </tbody>\n",
       "</table>\n",
       "</div>"
      ],
      "text/plain": [
       "SEVERITYDESC                                                     Injury Collision  \\\n",
       "SDOT_COLCODE SDOT_COLDESC                                                           \n",
       "0            NOT ENOUGH INFORMATION / NOT APPLICABLE                        708.0   \n",
       "11           MOTOR VEHICLE STRUCK MOTOR VEHICLE, FRONT END A...           24338.0   \n",
       "12           MOTOR VEHICLE STRUCK MOTOR VEHICLE, RIGHT SIDE ...              27.0   \n",
       "13           MOTOR VEHICLE STRUCK MOTOR VEHICLE, LEFT SIDE A...             199.0   \n",
       "14           MOTOR VEHICLE STRUCK MOTOR VEHICLE, REAR END                 17748.0   \n",
       "15           MOTOR VEHICLE STRUCK MOTOR VEHICLE, RIGHT SIDE ...              75.0   \n",
       "16           MOTOR VEHICLE STRUCK MOTOR VEHICLE, LEFT SIDE S...             692.0   \n",
       "18           MOTOR VEHICLE STRUCK PEDALCYCLIST, FRONT END AT...            2734.0   \n",
       "21           MOTOR VEHICLE STRUCK PEDALCYCLIST, REAR END                    140.0   \n",
       "22           MOTOR VEHICLE STRUCK PEDALCYCLIST, RIGHT SIDE S...              16.0   \n",
       "23           MOTOR VEHICLE STRUCK PEDALCYCLIST, LEFT SIDE SI...              93.0   \n",
       "24           MOTOR VEHCILE STRUCK PEDESTRIAN                               5853.0   \n",
       "25           MOTOR VEHICLE STRUCK TRAIN                                      20.0   \n",
       "26           MOTOR VEHICLE STRUCK OBJECT IN ROAD                           1173.0   \n",
       "27           MOTOR VEHICLE RAN OFF ROAD - NO COLLISION                       36.0   \n",
       "28           MOTOR VEHICLE RAN OFF ROAD - HIT FIXED OBJECT                 2282.0   \n",
       "29           MOTOR VEHICLE OVERTURNED IN ROAD                               361.0   \n",
       "31           DRIVERLESS VEHICLE STRUCK MOTOR VEHICLE FRONT E...               7.0   \n",
       "32           DRIVERLESS VEHICLE STRUCK MOTOR VEHICLE RIGHT S...               1.0   \n",
       "33           DRIVERLESS VEHICLE STRUCK MOTOR VEHICLE LEFT SI...               2.0   \n",
       "34           DRIVERLESS VEHICLE STRUCK MOTOR VEHICLE REAR END                 9.0   \n",
       "35           DRIVERLESS VEHICLE STRUCK MOTOR VEHICLE RIGHT S...               1.0   \n",
       "36           DRIVERLESS VEHICLE STRUCK MOTOR VEHICLE LEFT SI...               1.0   \n",
       "44           DRIVERLESS VEHICLE STRUCK PEDESTRIAN                             8.0   \n",
       "46           DRIVERLESS VEHICLE STRUCK OBJECT IN ROADWAY                      NaN   \n",
       "47           DRIVERLESS VEHICLE RAN OFF ROAD - NO COLLISION                   NaN   \n",
       "48           DRIVERLESS VEHICLE RAN OFF ROAD - HIT FIXED OBJECT              11.0   \n",
       "51           PEDALCYCLIST STRUCK MOTOR VEHICLE FRONT END AT ...            1160.0   \n",
       "52           PEDALCYCLIST STRUCK MOTOR VEHICLE RIGHT SIDE AT...               1.0   \n",
       "53           PEDALCYCLIST STRUCK MOTOR VEHICLE LEFT SIDE AT ...               7.0   \n",
       "54           PEDALCYCLIST STRUCK MOTOR VEHICLE REAR END                     107.0   \n",
       "55           PEDALCYCLIST STRUCK MOTOR VEHICLE RIGHT SIDE SI...              40.0   \n",
       "56           PEDALCYCLIST STRUCK MOTOR VEHICLE LEFT SIDE SID...             161.0   \n",
       "58           PEDALCYCLIST STRUCK PEDALCYCLIST FRONT END AT A...               5.0   \n",
       "61           PEDALCYCLIST STRUCK PEDALCYCLIST REAR END                        7.0   \n",
       "64           PEDALCYCLIST STRUCK PEDESTRIAN                                  72.0   \n",
       "66           PEDALCYCLIST STRUCK OBJECT IN ROAD                              22.0   \n",
       "68           PEDALCYCLIST RAN OFF ROAD - HIT FIXED OBJECT                     3.0   \n",
       "69           PEDALCYCLIST OVERTURNED IN ROAD                                 68.0   \n",
       "\n",
       "SEVERITYDESC                                                     Property Damage Only Collision  \n",
       "SDOT_COLCODE SDOT_COLDESC                                                                        \n",
       "0            NOT ENOUGH INFORMATION / NOT APPLICABLE                                     9079.0  \n",
       "11           MOTOR VEHICLE STRUCK MOTOR VEHICLE, FRONT END A...                         60871.0  \n",
       "12           MOTOR VEHICLE STRUCK MOTOR VEHICLE, RIGHT SIDE ...                          1413.0  \n",
       "13           MOTOR VEHICLE STRUCK MOTOR VEHICLE, LEFT SIDE A...                          5653.0  \n",
       "14           MOTOR VEHICLE STRUCK MOTOR VEHICLE, REAR END                               36551.0  \n",
       "15           MOTOR VEHICLE STRUCK MOTOR VEHICLE, RIGHT SIDE ...                          1529.0  \n",
       "16           MOTOR VEHICLE STRUCK MOTOR VEHICLE, LEFT SIDE S...                          9236.0  \n",
       "18           MOTOR VEHICLE STRUCK PEDALCYCLIST, FRONT END AT...                           370.0  \n",
       "21           MOTOR VEHICLE STRUCK PEDALCYCLIST, REAR END                                   41.0  \n",
       "22           MOTOR VEHICLE STRUCK PEDALCYCLIST, RIGHT SIDE S...                             1.0  \n",
       "23           MOTOR VEHICLE STRUCK PEDALCYCLIST, LEFT SIDE SI...                            31.0  \n",
       "24           MOTOR VEHCILE STRUCK PEDESTRIAN                                              665.0  \n",
       "25           MOTOR VEHICLE STRUCK TRAIN                                                    82.0  \n",
       "26           MOTOR VEHICLE STRUCK OBJECT IN ROAD                                         3568.0  \n",
       "27           MOTOR VEHICLE RAN OFF ROAD - NO COLLISION                                    130.0  \n",
       "28           MOTOR VEHICLE RAN OFF ROAD - HIT FIXED OBJECT                               6574.0  \n",
       "29           MOTOR VEHICLE OVERTURNED IN ROAD                                             118.0  \n",
       "31           DRIVERLESS VEHICLE STRUCK MOTOR VEHICLE FRONT E...                            97.0  \n",
       "32           DRIVERLESS VEHICLE STRUCK MOTOR VEHICLE RIGHT S...                            11.0  \n",
       "33           DRIVERLESS VEHICLE STRUCK MOTOR VEHICLE LEFT SI...                            51.0  \n",
       "34           DRIVERLESS VEHICLE STRUCK MOTOR VEHICLE REAR END                              84.0  \n",
       "35           DRIVERLESS VEHICLE STRUCK MOTOR VEHICLE RIGHT S...                             5.0  \n",
       "36           DRIVERLESS VEHICLE STRUCK MOTOR VEHICLE LEFT SI...                             3.0  \n",
       "44           DRIVERLESS VEHICLE STRUCK PEDESTRIAN                                           NaN  \n",
       "46           DRIVERLESS VEHICLE STRUCK OBJECT IN ROADWAY                                    3.0  \n",
       "47           DRIVERLESS VEHICLE RAN OFF ROAD - NO COLLISION                                 1.0  \n",
       "48           DRIVERLESS VEHICLE RAN OFF ROAD - HIT FIXED OBJECT                            96.0  \n",
       "51           PEDALCYCLIST STRUCK MOTOR VEHICLE FRONT END AT ...                           152.0  \n",
       "52           PEDALCYCLIST STRUCK MOTOR VEHICLE RIGHT SIDE AT...                             1.0  \n",
       "53           PEDALCYCLIST STRUCK MOTOR VEHICLE LEFT SIDE AT ...                             2.0  \n",
       "54           PEDALCYCLIST STRUCK MOTOR VEHICLE REAR END                                    32.0  \n",
       "55           PEDALCYCLIST STRUCK MOTOR VEHICLE RIGHT SIDE SI...                            10.0  \n",
       "56           PEDALCYCLIST STRUCK MOTOR VEHICLE LEFT SIDE SID...                            19.0  \n",
       "58           PEDALCYCLIST STRUCK PEDALCYCLIST FRONT END AT A...                             NaN  \n",
       "61           PEDALCYCLIST STRUCK PEDALCYCLIST REAR END                                      NaN  \n",
       "64           PEDALCYCLIST STRUCK PEDESTRIAN                                                 3.0  \n",
       "66           PEDALCYCLIST STRUCK OBJECT IN ROAD                                             1.0  \n",
       "68           PEDALCYCLIST RAN OFF ROAD - HIT FIXED OBJECT                                   1.0  \n",
       "69           PEDALCYCLIST OVERTURNED IN ROAD                                                1.0  "
      ]
     },
     "execution_count": 29,
     "metadata": {},
     "output_type": "execute_result"
    }
   ],
   "source": [
    "#PEDACYCLIST/PEDESTRIAN face mostly Injury Collision\n",
    "pd.pivot_table(accident_df,index=['SDOT_COLCODE','SDOT_COLDESC'],\n",
    "               columns='SEVERITYDESC',values='SEVERITYCODE',aggfunc='count')"
   ]
  },
  {
   "cell_type": "code",
   "execution_count": 30,
   "metadata": {},
   "outputs": [],
   "source": [
    "accident_df['SDOT_COLCODE_New']=accident_df['SDOT_COLCODE'].copy()\n",
    "accident_df['SDOT_COLCODE'].replace([11,12,13,14,15,16],1,inplace=True) #MOTOR VEHICLE STRUCK MOTOR VEHICLE\n",
    "accident_df['SDOT_COLCODE'].replace([18,21,22,23,24],2,inplace=True)    #MOTOR VEHICLE STRUCK PEDALCYCLIST/PEDESTRIAN\n",
    "accident_df['SDOT_COLCODE'].replace([25,26,27,28,29],3,inplace=True)    #MOTOR VEHICLE SELF\n",
    "accident_df['SDOT_COLCODE'].replace([31,32,33,34,35,36],4,inplace=True) #DRIVERLESS VEHICLE STRUCK MOTOR \n",
    "accident_df['SDOT_COLCODE'].replace([44,46,47,48],5,inplace=True)       #DRIVERLESS VEHICLE SELF\n",
    "accident_df['SDOT_COLCODE'].replace([51,52,53,54,55,56,58],6,inplace=True) #PEDALCYCLIST STRUCK\n",
    "accident_df['SDOT_COLCODE'].replace([61,64,66,68,69],7,inplace=True)     #PEDALCYCLIST SELF\n",
    "accident_df['SDOT_COLCODE'].replace(0,0,inplace=True)                    #NOT APPLICABLE"
   ]
  },
  {
   "cell_type": "code",
   "execution_count": 31,
   "metadata": {},
   "outputs": [
    {
     "data": {
      "text/plain": [
       "1    158332\n",
       "3     14344\n",
       "2      9944\n",
       "0      9787\n",
       "6      1697\n",
       "4       272\n",
       "7       178\n",
       "5       119\n",
       "Name: SDOT_COLCODE, dtype: int64"
      ]
     },
     "execution_count": 31,
     "metadata": {},
     "output_type": "execute_result"
    }
   ],
   "source": [
    "accident_df['SDOT_COLCODE'].value_counts()"
   ]
  },
  {
   "cell_type": "code",
   "execution_count": 32,
   "metadata": {},
   "outputs": [
    {
     "data": {
      "text/html": [
       "<div>\n",
       "<style scoped>\n",
       "    .dataframe tbody tr th:only-of-type {\n",
       "        vertical-align: middle;\n",
       "    }\n",
       "\n",
       "    .dataframe tbody tr th {\n",
       "        vertical-align: top;\n",
       "    }\n",
       "\n",
       "    .dataframe thead th {\n",
       "        text-align: right;\n",
       "    }\n",
       "</style>\n",
       "<table border=\"1\" class=\"dataframe\">\n",
       "  <thead>\n",
       "    <tr style=\"text-align: right;\">\n",
       "      <th>SEVERITYDESC</th>\n",
       "      <th>Injury Collision</th>\n",
       "      <th>Property Damage Only Collision</th>\n",
       "    </tr>\n",
       "    <tr>\n",
       "      <th>SDOT_COLCODE</th>\n",
       "      <th></th>\n",
       "      <th></th>\n",
       "    </tr>\n",
       "  </thead>\n",
       "  <tbody>\n",
       "    <tr>\n",
       "      <th>0</th>\n",
       "      <td>708</td>\n",
       "      <td>9079</td>\n",
       "    </tr>\n",
       "    <tr>\n",
       "      <th>1</th>\n",
       "      <td>43079</td>\n",
       "      <td>115253</td>\n",
       "    </tr>\n",
       "    <tr>\n",
       "      <th>2</th>\n",
       "      <td>8836</td>\n",
       "      <td>1108</td>\n",
       "    </tr>\n",
       "    <tr>\n",
       "      <th>3</th>\n",
       "      <td>3872</td>\n",
       "      <td>10472</td>\n",
       "    </tr>\n",
       "    <tr>\n",
       "      <th>4</th>\n",
       "      <td>21</td>\n",
       "      <td>251</td>\n",
       "    </tr>\n",
       "    <tr>\n",
       "      <th>5</th>\n",
       "      <td>19</td>\n",
       "      <td>100</td>\n",
       "    </tr>\n",
       "    <tr>\n",
       "      <th>6</th>\n",
       "      <td>1481</td>\n",
       "      <td>216</td>\n",
       "    </tr>\n",
       "    <tr>\n",
       "      <th>7</th>\n",
       "      <td>172</td>\n",
       "      <td>6</td>\n",
       "    </tr>\n",
       "  </tbody>\n",
       "</table>\n",
       "</div>"
      ],
      "text/plain": [
       "SEVERITYDESC  Injury Collision  Property Damage Only Collision\n",
       "SDOT_COLCODE                                                  \n",
       "0                          708                            9079\n",
       "1                        43079                          115253\n",
       "2                         8836                            1108\n",
       "3                         3872                           10472\n",
       "4                           21                             251\n",
       "5                           19                             100\n",
       "6                         1481                             216\n",
       "7                          172                               6"
      ]
     },
     "execution_count": 32,
     "metadata": {},
     "output_type": "execute_result"
    }
   ],
   "source": [
    "#Most collisions occur in MOTOR VEHICLE CATEGORY and most inguiry occur where pedestrians are involved\n",
    "pd.pivot_table(accident_df,index=['SDOT_COLCODE'],\n",
    "               columns='SEVERITYDESC',values='SEVERITYCODE',aggfunc='count')"
   ]
  },
  {
   "cell_type": "code",
   "execution_count": 33,
   "metadata": {},
   "outputs": [
    {
     "data": {
      "text/plain": [
       "Clear                       111135\n",
       "Raining                      33145\n",
       "Overcast                     27714\n",
       "Unknown                      15091\n",
       "Snowing                        907\n",
       "Other                          832\n",
       "Fog/Smog/Smoke                 569\n",
       "Sleet/Hail/Freezing Rain       113\n",
       "Blowing Sand/Dirt               56\n",
       "Severe Crosswind                25\n",
       "Partly Cloudy                    5\n",
       "Name: WEATHER, dtype: int64"
      ]
     },
     "execution_count": 33,
     "metadata": {},
     "output_type": "execute_result"
    }
   ],
   "source": [
    "accident_df['WEATHER'].value_counts()"
   ]
  },
  {
   "cell_type": "code",
   "execution_count": 34,
   "metadata": {},
   "outputs": [
    {
     "data": {
      "text/html": [
       "<div>\n",
       "<style scoped>\n",
       "    .dataframe tbody tr th:only-of-type {\n",
       "        vertical-align: middle;\n",
       "    }\n",
       "\n",
       "    .dataframe tbody tr th {\n",
       "        vertical-align: top;\n",
       "    }\n",
       "\n",
       "    .dataframe thead th {\n",
       "        text-align: right;\n",
       "    }\n",
       "</style>\n",
       "<table border=\"1\" class=\"dataframe\">\n",
       "  <thead>\n",
       "    <tr style=\"text-align: right;\">\n",
       "      <th>SEVERITYDESC</th>\n",
       "      <th>Injury Collision</th>\n",
       "      <th>Property Damage Only Collision</th>\n",
       "    </tr>\n",
       "    <tr>\n",
       "      <th>WEATHER</th>\n",
       "      <th></th>\n",
       "      <th></th>\n",
       "    </tr>\n",
       "  </thead>\n",
       "  <tbody>\n",
       "    <tr>\n",
       "      <th>Blowing Sand/Dirt</th>\n",
       "      <td>15</td>\n",
       "      <td>41</td>\n",
       "    </tr>\n",
       "    <tr>\n",
       "      <th>Clear</th>\n",
       "      <td>35840</td>\n",
       "      <td>75295</td>\n",
       "    </tr>\n",
       "    <tr>\n",
       "      <th>Fog/Smog/Smoke</th>\n",
       "      <td>187</td>\n",
       "      <td>382</td>\n",
       "    </tr>\n",
       "    <tr>\n",
       "      <th>Other</th>\n",
       "      <td>116</td>\n",
       "      <td>716</td>\n",
       "    </tr>\n",
       "    <tr>\n",
       "      <th>Overcast</th>\n",
       "      <td>8745</td>\n",
       "      <td>18969</td>\n",
       "    </tr>\n",
       "    <tr>\n",
       "      <th>Partly Cloudy</th>\n",
       "      <td>3</td>\n",
       "      <td>2</td>\n",
       "    </tr>\n",
       "    <tr>\n",
       "      <th>Raining</th>\n",
       "      <td>11176</td>\n",
       "      <td>21969</td>\n",
       "    </tr>\n",
       "    <tr>\n",
       "      <th>Severe Crosswind</th>\n",
       "      <td>7</td>\n",
       "      <td>18</td>\n",
       "    </tr>\n",
       "    <tr>\n",
       "      <th>Sleet/Hail/Freezing Rain</th>\n",
       "      <td>28</td>\n",
       "      <td>85</td>\n",
       "    </tr>\n",
       "    <tr>\n",
       "      <th>Snowing</th>\n",
       "      <td>171</td>\n",
       "      <td>736</td>\n",
       "    </tr>\n",
       "    <tr>\n",
       "      <th>Unknown</th>\n",
       "      <td>816</td>\n",
       "      <td>14275</td>\n",
       "    </tr>\n",
       "  </tbody>\n",
       "</table>\n",
       "</div>"
      ],
      "text/plain": [
       "SEVERITYDESC              Injury Collision  Property Damage Only Collision\n",
       "WEATHER                                                                   \n",
       "Blowing Sand/Dirt                       15                              41\n",
       "Clear                                35840                           75295\n",
       "Fog/Smog/Smoke                         187                             382\n",
       "Other                                  116                             716\n",
       "Overcast                              8745                           18969\n",
       "Partly Cloudy                            3                               2\n",
       "Raining                              11176                           21969\n",
       "Severe Crosswind                         7                              18\n",
       "Sleet/Hail/Freezing Rain                28                              85\n",
       "Snowing                                171                             736\n",
       "Unknown                                816                           14275"
      ]
     },
     "execution_count": 34,
     "metadata": {},
     "output_type": "execute_result"
    }
   ],
   "source": [
    "pd.pivot_table(accident_df,index='WEATHER',columns='SEVERITYDESC',values='SEVERITYCODE',aggfunc='count')"
   ]
  },
  {
   "cell_type": "code",
   "execution_count": 35,
   "metadata": {},
   "outputs": [],
   "source": [
    "accident_df['WEATHER_New']=accident_df['WEATHER'].copy()\n",
    "accident_df.replace('Clear',0,inplace=True)\n",
    "accident_df.replace(['Raining','Sleet/Hail/Freezing Rain','Snowing'],1,inplace=True)\n",
    "accident_df.replace(['Blowing Sand/Dirt','Fog/Smog/Smoke','Severe Crosswind'],2,inplace=True)\n",
    "accident_df.replace(['Overcast','Partly Cloudy'],3,inplace=True)\n",
    "accident_df.replace(['Unknown','Other'],4,inplace=True)"
   ]
  },
  {
   "cell_type": "code",
   "execution_count": 36,
   "metadata": {},
   "outputs": [
    {
     "data": {
      "text/plain": [
       "0.0    111135\n",
       "1.0     34165\n",
       "3.0     27719\n",
       "4.0     15923\n",
       "2.0       650\n",
       "Name: WEATHER, dtype: int64"
      ]
     },
     "execution_count": 36,
     "metadata": {},
     "output_type": "execute_result"
    }
   ],
   "source": [
    "accident_df['WEATHER'].value_counts()"
   ]
  },
  {
   "cell_type": "code",
   "execution_count": 37,
   "metadata": {},
   "outputs": [
    {
     "data": {
      "text/html": [
       "<div>\n",
       "<style scoped>\n",
       "    .dataframe tbody tr th:only-of-type {\n",
       "        vertical-align: middle;\n",
       "    }\n",
       "\n",
       "    .dataframe tbody tr th {\n",
       "        vertical-align: top;\n",
       "    }\n",
       "\n",
       "    .dataframe thead th {\n",
       "        text-align: right;\n",
       "    }\n",
       "</style>\n",
       "<table border=\"1\" class=\"dataframe\">\n",
       "  <thead>\n",
       "    <tr style=\"text-align: right;\">\n",
       "      <th>SEVERITYDESC</th>\n",
       "      <th>Injury Collision</th>\n",
       "      <th>Property Damage Only Collision</th>\n",
       "    </tr>\n",
       "    <tr>\n",
       "      <th>WEATHER</th>\n",
       "      <th></th>\n",
       "      <th></th>\n",
       "    </tr>\n",
       "  </thead>\n",
       "  <tbody>\n",
       "    <tr>\n",
       "      <th>0.0</th>\n",
       "      <td>35840</td>\n",
       "      <td>75295</td>\n",
       "    </tr>\n",
       "    <tr>\n",
       "      <th>1.0</th>\n",
       "      <td>11375</td>\n",
       "      <td>22790</td>\n",
       "    </tr>\n",
       "    <tr>\n",
       "      <th>2.0</th>\n",
       "      <td>209</td>\n",
       "      <td>441</td>\n",
       "    </tr>\n",
       "    <tr>\n",
       "      <th>3.0</th>\n",
       "      <td>8748</td>\n",
       "      <td>18971</td>\n",
       "    </tr>\n",
       "    <tr>\n",
       "      <th>4.0</th>\n",
       "      <td>932</td>\n",
       "      <td>14991</td>\n",
       "    </tr>\n",
       "  </tbody>\n",
       "</table>\n",
       "</div>"
      ],
      "text/plain": [
       "SEVERITYDESC  Injury Collision  Property Damage Only Collision\n",
       "WEATHER                                                       \n",
       "0.0                      35840                           75295\n",
       "1.0                      11375                           22790\n",
       "2.0                        209                             441\n",
       "3.0                       8748                           18971\n",
       "4.0                        932                           14991"
      ]
     },
     "execution_count": 37,
     "metadata": {},
     "output_type": "execute_result"
    }
   ],
   "source": [
    "#Most collisions occur on clear weather day\n",
    "pd.pivot_table(accident_df,index='WEATHER',columns='SEVERITYDESC',values='SEVERITYCODE',aggfunc='count')"
   ]
  },
  {
   "cell_type": "code",
   "execution_count": 38,
   "metadata": {},
   "outputs": [
    {
     "data": {
      "text/plain": [
       "Dry               124510\n",
       "Wet                47474\n",
       "4                  15210\n",
       "Ice                 1209\n",
       "Snow/Slush          1004\n",
       "Standing Water       115\n",
       "Sand/Mud/Dirt         75\n",
       "Oil                   64\n",
       "Name: ROADCOND, dtype: int64"
      ]
     },
     "execution_count": 38,
     "metadata": {},
     "output_type": "execute_result"
    }
   ],
   "source": [
    "accident_df['ROADCOND'].value_counts()"
   ]
  },
  {
   "cell_type": "code",
   "execution_count": 39,
   "metadata": {},
   "outputs": [],
   "source": [
    "accident_df['ROADCOND_New']=accident_df['ROADCOND'].copy()\n",
    "accident_df['ROADCOND'].replace(['Dry'],0,inplace=True)                          #Dry\n",
    "accident_df['ROADCOND'].replace(4,4,inplace=True)                                #Other \n",
    "accident_df['ROADCOND'].replace(['Wet','Ice','Standing Water','Oil'],2,inplace=True)   #Wet\n",
    "accident_df['ROADCOND'].replace(['Snow/Slush','Sand/Mud/Dirt'],3,inplace=True)   #Mushy"
   ]
  },
  {
   "cell_type": "code",
   "execution_count": 40,
   "metadata": {},
   "outputs": [
    {
     "data": {
      "text/plain": [
       "0.0    124510\n",
       "2.0     48862\n",
       "4.0     15210\n",
       "3.0      1079\n",
       "Name: ROADCOND, dtype: int64"
      ]
     },
     "execution_count": 40,
     "metadata": {},
     "output_type": "execute_result"
    }
   ],
   "source": [
    "accident_df['ROADCOND'].value_counts()"
   ]
  },
  {
   "cell_type": "code",
   "execution_count": 41,
   "metadata": {},
   "outputs": [
    {
     "data": {
      "text/plain": [
       "<seaborn.axisgrid.FacetGrid at 0x22d8f59ba00>"
      ]
     },
     "execution_count": 41,
     "metadata": {},
     "output_type": "execute_result"
    },
    {
     "data": {
      "image/png": "[encoded data removed]",
      "text/plain": [
       "<Figure size 443.5x360 with 1 Axes>"
      ]
     },
     "metadata": {
      "needs_background": "light"
     },
     "output_type": "display_data"
    }
   ],
   "source": [
    "#Most Collisions occur in Dry Road Condition\n",
    "sns.catplot(x='ROADCOND',hue='SEVERITYCODE',data=accident_df,kind='count')"
   ]
  },
  {
   "cell_type": "code",
   "execution_count": 42,
   "metadata": {},
   "outputs": [
    {
     "data": {
      "text/plain": [
       "Daylight                    116137\n",
       "Dark - Street Lights On      48507\n",
       "4                            13708\n",
       "Dusk                          5902\n",
       "Dawn                          2502\n",
       "Dark - No Street Lights       1537\n",
       "Dark - Street Lights Off      1199\n",
       "Dark - Unknown Lighting         11\n",
       "Name: LIGHTCOND, dtype: int64"
      ]
     },
     "execution_count": 42,
     "metadata": {},
     "output_type": "execute_result"
    }
   ],
   "source": [
    "accident_df['LIGHTCOND'].value_counts()"
   ]
  },
  {
   "cell_type": "code",
   "execution_count": 43,
   "metadata": {},
   "outputs": [],
   "source": [
    "accident_df['LIGHTCOND'].replace(['Dark - Street Lights On','Dusk','Dawn'],1,inplace=True)\n",
    "accident_df['LIGHTCOND'].replace(['Dark - No Street Lights','Dark - Street Lights Off','Dark - Unknown Lighting'],\n",
    "                                 2,inplace=True)\n",
    "accident_df['LIGHTCOND'].replace('Daylight',0,inplace=True)\n",
    "accident_df['LIGHTCOND'].replace(4,4,inplace=True)"
   ]
  },
  {
   "cell_type": "code",
   "execution_count": 44,
   "metadata": {},
   "outputs": [
    {
     "data": {
      "text/html": [
       "<div>\n",
       "<style scoped>\n",
       "    .dataframe tbody tr th:only-of-type {\n",
       "        vertical-align: middle;\n",
       "    }\n",
       "\n",
       "    .dataframe tbody tr th {\n",
       "        vertical-align: top;\n",
       "    }\n",
       "\n",
       "    .dataframe thead th {\n",
       "        text-align: right;\n",
       "    }\n",
       "</style>\n",
       "<table border=\"1\" class=\"dataframe\">\n",
       "  <thead>\n",
       "    <tr style=\"text-align: right;\">\n",
       "      <th>SEVERITYDESC</th>\n",
       "      <th>Injury Collision</th>\n",
       "      <th>Property Damage Only Collision</th>\n",
       "    </tr>\n",
       "    <tr>\n",
       "      <th>LIGHTCOND</th>\n",
       "      <th></th>\n",
       "      <th></th>\n",
       "    </tr>\n",
       "  </thead>\n",
       "  <tbody>\n",
       "    <tr>\n",
       "      <th>0.0</th>\n",
       "      <td>38544</td>\n",
       "      <td>77593</td>\n",
       "    </tr>\n",
       "    <tr>\n",
       "      <th>1.0</th>\n",
       "      <td>17243</td>\n",
       "      <td>39668</td>\n",
       "    </tr>\n",
       "    <tr>\n",
       "      <th>2.0</th>\n",
       "      <td>654</td>\n",
       "      <td>2093</td>\n",
       "    </tr>\n",
       "    <tr>\n",
       "      <th>4.0</th>\n",
       "      <td>657</td>\n",
       "      <td>13051</td>\n",
       "    </tr>\n",
       "  </tbody>\n",
       "</table>\n",
       "</div>"
      ],
      "text/plain": [
       "SEVERITYDESC  Injury Collision  Property Damage Only Collision\n",
       "LIGHTCOND                                                     \n",
       "0.0                      38544                           77593\n",
       "1.0                      17243                           39668\n",
       "2.0                        654                            2093\n",
       "4.0                        657                           13051"
      ]
     },
     "execution_count": 44,
     "metadata": {},
     "output_type": "execute_result"
    }
   ],
   "source": [
    "#Most accidents take in Daylight\n",
    "pd.pivot_table(accident_df,index='LIGHTCOND',columns='SEVERITYDESC',values='SEVERITYCODE',aggfunc='count')"
   ]
  },
  {
   "cell_type": "code",
   "execution_count": 45,
   "metadata": {},
   "outputs": [],
   "source": [
    "accident_df.INCDTTM=pd.to_datetime(accident_df.INCDTTM)"
   ]
  },
  {
   "cell_type": "code",
   "execution_count": 46,
   "metadata": {},
   "outputs": [],
   "source": [
    "import datetime\n",
    "accident_df['year']=pd.DatetimeIndex(accident_df['INCDTTM']).year\n",
    "accident_df['month']=pd.DatetimeIndex(accident_df['INCDTTM']).month\n",
    "accident_df['day']=pd.DatetimeIndex(accident_df['INCDTTM']).day\n",
    "accident_df['weekday']=pd.DatetimeIndex(accident_df['INCDTTM']).dayofweek\n",
    "accident_df['hour']=pd.DatetimeIndex(accident_df['INCDTTM']).hour"
   ]
  },
  {
   "cell_type": "code",
   "execution_count": 47,
   "metadata": {},
   "outputs": [
    {
     "data": {
      "text/html": [
       "<div>\n",
       "<style scoped>\n",
       "    .dataframe tbody tr th:only-of-type {\n",
       "        vertical-align: middle;\n",
       "    }\n",
       "\n",
       "    .dataframe tbody tr th {\n",
       "        vertical-align: top;\n",
       "    }\n",
       "\n",
       "    .dataframe thead th {\n",
       "        text-align: right;\n",
       "    }\n",
       "</style>\n",
       "<table border=\"1\" class=\"dataframe\">\n",
       "  <thead>\n",
       "    <tr style=\"text-align: right;\">\n",
       "      <th></th>\n",
       "      <th>SEVERITYCODE</th>\n",
       "      <th>X</th>\n",
       "      <th>Y</th>\n",
       "      <th>OBJECTID</th>\n",
       "      <th>INCKEY</th>\n",
       "      <th>COLDETKEY</th>\n",
       "      <th>REPORTNO</th>\n",
       "      <th>STATUS</th>\n",
       "      <th>ADDRTYPE</th>\n",
       "      <th>LOCATION</th>\n",
       "      <th>...</th>\n",
       "      <th>CROSSWALKKEY</th>\n",
       "      <th>HITPARKEDCAR</th>\n",
       "      <th>SDOT_COLCODE_New</th>\n",
       "      <th>WEATHER_New</th>\n",
       "      <th>ROADCOND_New</th>\n",
       "      <th>year</th>\n",
       "      <th>month</th>\n",
       "      <th>day</th>\n",
       "      <th>weekday</th>\n",
       "      <th>hour</th>\n",
       "    </tr>\n",
       "  </thead>\n",
       "  <tbody>\n",
       "    <tr>\n",
       "      <th>0</th>\n",
       "      <td>2</td>\n",
       "      <td>-122.323148</td>\n",
       "      <td>47.703140</td>\n",
       "      <td>1</td>\n",
       "      <td>1307</td>\n",
       "      <td>1307</td>\n",
       "      <td>3502005</td>\n",
       "      <td>Matched</td>\n",
       "      <td>1.0</td>\n",
       "      <td>5TH AVE NE AND NE 103RD ST</td>\n",
       "      <td>...</td>\n",
       "      <td>0</td>\n",
       "      <td>N</td>\n",
       "      <td>11</td>\n",
       "      <td>3.0</td>\n",
       "      <td>Wet</td>\n",
       "      <td>2013</td>\n",
       "      <td>3</td>\n",
       "      <td>27</td>\n",
       "      <td>2</td>\n",
       "      <td>14</td>\n",
       "    </tr>\n",
       "    <tr>\n",
       "      <th>1</th>\n",
       "      <td>1</td>\n",
       "      <td>-122.347294</td>\n",
       "      <td>47.647172</td>\n",
       "      <td>2</td>\n",
       "      <td>52200</td>\n",
       "      <td>52200</td>\n",
       "      <td>2607959</td>\n",
       "      <td>Matched</td>\n",
       "      <td>2.0</td>\n",
       "      <td>AURORA BR BETWEEN RAYE ST AND BRIDGE WAY N</td>\n",
       "      <td>...</td>\n",
       "      <td>0</td>\n",
       "      <td>N</td>\n",
       "      <td>16</td>\n",
       "      <td>1.0</td>\n",
       "      <td>Wet</td>\n",
       "      <td>2006</td>\n",
       "      <td>12</td>\n",
       "      <td>20</td>\n",
       "      <td>2</td>\n",
       "      <td>18</td>\n",
       "    </tr>\n",
       "    <tr>\n",
       "      <th>2</th>\n",
       "      <td>1</td>\n",
       "      <td>-122.334540</td>\n",
       "      <td>47.607871</td>\n",
       "      <td>3</td>\n",
       "      <td>26700</td>\n",
       "      <td>26700</td>\n",
       "      <td>1482393</td>\n",
       "      <td>Matched</td>\n",
       "      <td>2.0</td>\n",
       "      <td>4TH AVE BETWEEN SENECA ST AND UNIVERSITY ST</td>\n",
       "      <td>...</td>\n",
       "      <td>0</td>\n",
       "      <td>N</td>\n",
       "      <td>14</td>\n",
       "      <td>3.0</td>\n",
       "      <td>Dry</td>\n",
       "      <td>2004</td>\n",
       "      <td>11</td>\n",
       "      <td>18</td>\n",
       "      <td>3</td>\n",
       "      <td>10</td>\n",
       "    </tr>\n",
       "    <tr>\n",
       "      <th>3</th>\n",
       "      <td>1</td>\n",
       "      <td>-122.334803</td>\n",
       "      <td>47.604803</td>\n",
       "      <td>4</td>\n",
       "      <td>1144</td>\n",
       "      <td>1144</td>\n",
       "      <td>3503937</td>\n",
       "      <td>Matched</td>\n",
       "      <td>2.0</td>\n",
       "      <td>2ND AVE BETWEEN MARION ST AND MADISON ST</td>\n",
       "      <td>...</td>\n",
       "      <td>0</td>\n",
       "      <td>N</td>\n",
       "      <td>11</td>\n",
       "      <td>0.0</td>\n",
       "      <td>Dry</td>\n",
       "      <td>2013</td>\n",
       "      <td>3</td>\n",
       "      <td>29</td>\n",
       "      <td>4</td>\n",
       "      <td>9</td>\n",
       "    </tr>\n",
       "    <tr>\n",
       "      <th>4</th>\n",
       "      <td>2</td>\n",
       "      <td>-122.306426</td>\n",
       "      <td>47.545739</td>\n",
       "      <td>5</td>\n",
       "      <td>17700</td>\n",
       "      <td>17700</td>\n",
       "      <td>1807429</td>\n",
       "      <td>Matched</td>\n",
       "      <td>1.0</td>\n",
       "      <td>SWIFT AVE S AND SWIFT AV OFF RP</td>\n",
       "      <td>...</td>\n",
       "      <td>0</td>\n",
       "      <td>N</td>\n",
       "      <td>11</td>\n",
       "      <td>1.0</td>\n",
       "      <td>Wet</td>\n",
       "      <td>2004</td>\n",
       "      <td>1</td>\n",
       "      <td>28</td>\n",
       "      <td>2</td>\n",
       "      <td>8</td>\n",
       "    </tr>\n",
       "  </tbody>\n",
       "</table>\n",
       "<p>5 rows × 43 columns</p>\n",
       "</div>"
      ],
      "text/plain": [
       "   SEVERITYCODE           X          Y  OBJECTID  INCKEY  COLDETKEY REPORTNO  \\\n",
       "0             2 -122.323148  47.703140         1    1307       1307  3502005   \n",
       "1             1 -122.347294  47.647172         2   52200      52200  2607959   \n",
       "2             1 -122.334540  47.607871         3   26700      26700  1482393   \n",
       "3             1 -122.334803  47.604803         4    1144       1144  3503937   \n",
       "4             2 -122.306426  47.545739         5   17700      17700  1807429   \n",
       "\n",
       "    STATUS  ADDRTYPE                                     LOCATION  ...  \\\n",
       "0  Matched       1.0                   5TH AVE NE AND NE 103RD ST  ...   \n",
       "1  Matched       2.0   AURORA BR BETWEEN RAYE ST AND BRIDGE WAY N  ...   \n",
       "2  Matched       2.0  4TH AVE BETWEEN SENECA ST AND UNIVERSITY ST  ...   \n",
       "3  Matched       2.0     2ND AVE BETWEEN MARION ST AND MADISON ST  ...   \n",
       "4  Matched       1.0              SWIFT AVE S AND SWIFT AV OFF RP  ...   \n",
       "\n",
       "   CROSSWALKKEY HITPARKEDCAR SDOT_COLCODE_New  WEATHER_New  ROADCOND_New  \\\n",
       "0             0            N               11          3.0           Wet   \n",
       "1             0            N               16          1.0           Wet   \n",
       "2             0            N               14          3.0           Dry   \n",
       "3             0            N               11          0.0           Dry   \n",
       "4             0            N               11          1.0           Wet   \n",
       "\n",
       "   year  month day weekday  hour  \n",
       "0  2013      3  27       2    14  \n",
       "1  2006     12  20       2    18  \n",
       "2  2004     11  18       3    10  \n",
       "3  2013      3  29       4     9  \n",
       "4  2004      1  28       2     8  \n",
       "\n",
       "[5 rows x 43 columns]"
      ]
     },
     "execution_count": 47,
     "metadata": {},
     "output_type": "execute_result"
    }
   ],
   "source": [
    "accident_df.head()"
   ]
  },
  {
   "cell_type": "code",
   "execution_count": 48,
   "metadata": {},
   "outputs": [
    {
     "data": {
      "text/html": [
       "<div>\n",
       "<style scoped>\n",
       "    .dataframe tbody tr th:only-of-type {\n",
       "        vertical-align: middle;\n",
       "    }\n",
       "\n",
       "    .dataframe tbody tr th {\n",
       "        vertical-align: top;\n",
       "    }\n",
       "\n",
       "    .dataframe thead th {\n",
       "        text-align: right;\n",
       "    }\n",
       "</style>\n",
       "<table border=\"1\" class=\"dataframe\">\n",
       "  <thead>\n",
       "    <tr style=\"text-align: right;\">\n",
       "      <th>SEVERITYDESC</th>\n",
       "      <th>Injury Collision</th>\n",
       "      <th>Property Damage Only Collision</th>\n",
       "    </tr>\n",
       "    <tr>\n",
       "      <th>year</th>\n",
       "      <th></th>\n",
       "      <th></th>\n",
       "    </tr>\n",
       "  </thead>\n",
       "  <tbody>\n",
       "    <tr>\n",
       "      <th>2004</th>\n",
       "      <td>3647</td>\n",
       "      <td>8218</td>\n",
       "    </tr>\n",
       "    <tr>\n",
       "      <th>2005</th>\n",
       "      <td>4450</td>\n",
       "      <td>10665</td>\n",
       "    </tr>\n",
       "    <tr>\n",
       "      <th>2006</th>\n",
       "      <td>4350</td>\n",
       "      <td>10838</td>\n",
       "    </tr>\n",
       "    <tr>\n",
       "      <th>2007</th>\n",
       "      <td>4017</td>\n",
       "      <td>10439</td>\n",
       "    </tr>\n",
       "    <tr>\n",
       "      <th>2008</th>\n",
       "      <td>3767</td>\n",
       "      <td>9893</td>\n",
       "    </tr>\n",
       "    <tr>\n",
       "      <th>2009</th>\n",
       "      <td>3378</td>\n",
       "      <td>8356</td>\n",
       "    </tr>\n",
       "    <tr>\n",
       "      <th>2010</th>\n",
       "      <td>3245</td>\n",
       "      <td>7563</td>\n",
       "    </tr>\n",
       "    <tr>\n",
       "      <th>2011</th>\n",
       "      <td>3099</td>\n",
       "      <td>7820</td>\n",
       "    </tr>\n",
       "    <tr>\n",
       "      <th>2012</th>\n",
       "      <td>3467</td>\n",
       "      <td>7440</td>\n",
       "    </tr>\n",
       "    <tr>\n",
       "      <th>2013</th>\n",
       "      <td>3290</td>\n",
       "      <td>7287</td>\n",
       "    </tr>\n",
       "    <tr>\n",
       "      <th>2014</th>\n",
       "      <td>3490</td>\n",
       "      <td>8351</td>\n",
       "    </tr>\n",
       "    <tr>\n",
       "      <th>2015</th>\n",
       "      <td>3752</td>\n",
       "      <td>9243</td>\n",
       "    </tr>\n",
       "    <tr>\n",
       "      <th>2016</th>\n",
       "      <td>3714</td>\n",
       "      <td>7945</td>\n",
       "    </tr>\n",
       "    <tr>\n",
       "      <th>2017</th>\n",
       "      <td>3419</td>\n",
       "      <td>7454</td>\n",
       "    </tr>\n",
       "    <tr>\n",
       "      <th>2018</th>\n",
       "      <td>3358</td>\n",
       "      <td>7061</td>\n",
       "    </tr>\n",
       "    <tr>\n",
       "      <th>2019</th>\n",
       "      <td>3062</td>\n",
       "      <td>6350</td>\n",
       "    </tr>\n",
       "    <tr>\n",
       "      <th>2020</th>\n",
       "      <td>683</td>\n",
       "      <td>1562</td>\n",
       "    </tr>\n",
       "  </tbody>\n",
       "</table>\n",
       "</div>"
      ],
      "text/plain": [
       "SEVERITYDESC  Injury Collision  Property Damage Only Collision\n",
       "year                                                          \n",
       "2004                      3647                            8218\n",
       "2005                      4450                           10665\n",
       "2006                      4350                           10838\n",
       "2007                      4017                           10439\n",
       "2008                      3767                            9893\n",
       "2009                      3378                            8356\n",
       "2010                      3245                            7563\n",
       "2011                      3099                            7820\n",
       "2012                      3467                            7440\n",
       "2013                      3290                            7287\n",
       "2014                      3490                            8351\n",
       "2015                      3752                            9243\n",
       "2016                      3714                            7945\n",
       "2017                      3419                            7454\n",
       "2018                      3358                            7061\n",
       "2019                      3062                            6350\n",
       "2020                       683                            1562"
      ]
     },
     "execution_count": 48,
     "metadata": {},
     "output_type": "execute_result"
    }
   ],
   "source": [
    "pd.pivot_table(accident_df,index='year',columns='SEVERITYDESC',values='SEVERITYCODE',aggfunc='count')"
   ]
  },
  {
   "cell_type": "code",
   "execution_count": 49,
   "metadata": {},
   "outputs": [
    {
     "data": {
      "text/plain": [
       "<seaborn.axisgrid.FacetGrid at 0x22d8301be80>"
      ]
     },
     "execution_count": 49,
     "metadata": {},
     "output_type": "execute_result"
    },
    {
     "data": {
      "image/png": "[encoded data removed]",
      "text/plain": [
       "<Figure size 443.5x360 with 1 Axes>"
      ]
     },
     "metadata": {
      "needs_background": "light"
     },
     "output_type": "display_data"
    }
   ],
   "source": [
    "sns.catplot(y='hour',data=accident_df,hue='SEVERITYCODE',kind='count')"
   ]
  },
  {
   "cell_type": "code",
   "execution_count": 50,
   "metadata": {},
   "outputs": [
    {
     "data": {
      "text/plain": [
       "<seaborn.axisgrid.FacetGrid at 0x22d8397f040>"
      ]
     },
     "execution_count": 50,
     "metadata": {},
     "output_type": "execute_result"
    },
    {
     "data": {
      "image/png": "[encoded data removed]",
      "text/plain": [
       "<Figure size 443.5x360 with 1 Axes>"
      ]
     },
     "metadata": {
      "needs_background": "light"
     },
     "output_type": "display_data"
    }
   ],
   "source": [
    "sns.catplot(y='weekday',data=accident_df,hue='SEVERITYCODE',kind='count')"
   ]
  },
  {
   "cell_type": "code",
   "execution_count": 51,
   "metadata": {},
   "outputs": [
    {
     "data": {
      "text/plain": [
       "<seaborn.axisgrid.FacetGrid at 0x22d839a0310>"
      ]
     },
     "execution_count": 51,
     "metadata": {},
     "output_type": "execute_result"
    },
    {
     "data": {
      "image/png": "[encoded data removed]",
      "text/plain": [
       "<Figure size 443.5x360 with 1 Axes>"
      ]
     },
     "metadata": {
      "needs_background": "light"
     },
     "output_type": "display_data"
    }
   ],
   "source": [
    "sns.catplot(y='day',data=accident_df,hue='SEVERITYCODE',kind='count')"
   ]
  },
  {
   "cell_type": "code",
   "execution_count": 52,
   "metadata": {},
   "outputs": [
    {
     "data": {
      "text/plain": [
       "<seaborn.axisgrid.FacetGrid at 0x22d9c5c08e0>"
      ]
     },
     "execution_count": 52,
     "metadata": {},
     "output_type": "execute_result"
    },
    {
     "data": {
      "image/png": "[encoded data removed]",
      "text/plain": [
       "<Figure size 443.5x360 with 1 Axes>"
      ]
     },
     "metadata": {
      "needs_background": "light"
     },
     "output_type": "display_data"
    }
   ],
   "source": [
    "sns.catplot(y='month',data=accident_df,hue='SEVERITYCODE',kind='count')"
   ]
  },
  {
   "cell_type": "code",
   "execution_count": 53,
   "metadata": {},
   "outputs": [
    {
     "data": {
      "text/html": [
       "<div>\n",
       "<style scoped>\n",
       "    .dataframe tbody tr th:only-of-type {\n",
       "        vertical-align: middle;\n",
       "    }\n",
       "\n",
       "    .dataframe tbody tr th {\n",
       "        vertical-align: top;\n",
       "    }\n",
       "\n",
       "    .dataframe thead th {\n",
       "        text-align: right;\n",
       "    }\n",
       "</style>\n",
       "<table border=\"1\" class=\"dataframe\">\n",
       "  <thead>\n",
       "    <tr style=\"text-align: right;\">\n",
       "      <th></th>\n",
       "      <th>PERSONCOUNT</th>\n",
       "      <th>PEDCOUNT</th>\n",
       "      <th>PEDCYLCOUNT</th>\n",
       "      <th>VEHCOUNT</th>\n",
       "    </tr>\n",
       "  </thead>\n",
       "  <tbody>\n",
       "    <tr>\n",
       "      <th>count</th>\n",
       "      <td>194673.000000</td>\n",
       "      <td>194673.000000</td>\n",
       "      <td>194673.000000</td>\n",
       "      <td>194673.000000</td>\n",
       "    </tr>\n",
       "    <tr>\n",
       "      <th>mean</th>\n",
       "      <td>2.444427</td>\n",
       "      <td>0.037139</td>\n",
       "      <td>0.028391</td>\n",
       "      <td>1.920780</td>\n",
       "    </tr>\n",
       "    <tr>\n",
       "      <th>std</th>\n",
       "      <td>1.345929</td>\n",
       "      <td>0.198150</td>\n",
       "      <td>0.167413</td>\n",
       "      <td>0.631047</td>\n",
       "    </tr>\n",
       "    <tr>\n",
       "      <th>min</th>\n",
       "      <td>0.000000</td>\n",
       "      <td>0.000000</td>\n",
       "      <td>0.000000</td>\n",
       "      <td>0.000000</td>\n",
       "    </tr>\n",
       "    <tr>\n",
       "      <th>25%</th>\n",
       "      <td>2.000000</td>\n",
       "      <td>0.000000</td>\n",
       "      <td>0.000000</td>\n",
       "      <td>2.000000</td>\n",
       "    </tr>\n",
       "    <tr>\n",
       "      <th>50%</th>\n",
       "      <td>2.000000</td>\n",
       "      <td>0.000000</td>\n",
       "      <td>0.000000</td>\n",
       "      <td>2.000000</td>\n",
       "    </tr>\n",
       "    <tr>\n",
       "      <th>75%</th>\n",
       "      <td>3.000000</td>\n",
       "      <td>0.000000</td>\n",
       "      <td>0.000000</td>\n",
       "      <td>2.000000</td>\n",
       "    </tr>\n",
       "    <tr>\n",
       "      <th>max</th>\n",
       "      <td>81.000000</td>\n",
       "      <td>6.000000</td>\n",
       "      <td>2.000000</td>\n",
       "      <td>12.000000</td>\n",
       "    </tr>\n",
       "  </tbody>\n",
       "</table>\n",
       "</div>"
      ],
      "text/plain": [
       "         PERSONCOUNT       PEDCOUNT    PEDCYLCOUNT       VEHCOUNT\n",
       "count  194673.000000  194673.000000  194673.000000  194673.000000\n",
       "mean        2.444427       0.037139       0.028391       1.920780\n",
       "std         1.345929       0.198150       0.167413       0.631047\n",
       "min         0.000000       0.000000       0.000000       0.000000\n",
       "25%         2.000000       0.000000       0.000000       2.000000\n",
       "50%         2.000000       0.000000       0.000000       2.000000\n",
       "75%         3.000000       0.000000       0.000000       2.000000\n",
       "max        81.000000       6.000000       2.000000      12.000000"
      ]
     },
     "execution_count": 53,
     "metadata": {},
     "output_type": "execute_result"
    }
   ],
   "source": [
    "accident_df[['PERSONCOUNT','PEDCOUNT','PEDCYLCOUNT','VEHCOUNT']].describe()"
   ]
  },
  {
   "cell_type": "code",
   "execution_count": 54,
   "metadata": {},
   "outputs": [
    {
     "name": "stdout",
     "output_type": "stream",
     "text": [
      "0       5544\n",
      "1      13154\n",
      "2     114231\n",
      "3      35553\n",
      "4      14660\n",
      "5       6584\n",
      "6       2702\n",
      "7       1131\n",
      "8        533\n",
      "9        216\n",
      "10       128\n",
      "11        56\n",
      "12        33\n",
      "13        21\n",
      "14        19\n",
      "15        11\n",
      "16         8\n",
      "17        11\n",
      "18         6\n",
      "19         5\n",
      "20         6\n",
      "21         2\n",
      "22         4\n",
      "23         2\n",
      "24         2\n",
      "25         6\n",
      "26         4\n",
      "27         3\n",
      "28         3\n",
      "29         3\n",
      "30         2\n",
      "31         1\n",
      "32         3\n",
      "34         3\n",
      "35         1\n",
      "36         2\n",
      "37         3\n",
      "39         1\n",
      "41         1\n",
      "43         1\n",
      "44         6\n",
      "47         3\n",
      "48         1\n",
      "53         1\n",
      "54         1\n",
      "57         1\n",
      "81         1\n",
      "Name: PERSONCOUNT, dtype: int64\n"
     ]
    },
    {
     "data": {
      "image/png": "[encoded data removed]",
      "text/plain": [
       "<Figure size 720x432 with 1 Axes>"
      ]
     },
     "metadata": {
      "needs_background": "light"
     },
     "output_type": "display_data"
    }
   ],
   "source": [
    "#data is skewed, and mostly involved number of people in collision are 2\n",
    "plt.figure(figsize=(10,6))\n",
    "sns.distplot(accident_df['PERSONCOUNT'])\n",
    "print(accident_df['PERSONCOUNT'].value_counts().sort_index())"
   ]
  },
  {
   "cell_type": "code",
   "execution_count": 55,
   "metadata": {},
   "outputs": [
    {
     "data": {
      "text/plain": [
       "<matplotlib.axes._subplots.AxesSubplot at 0x22d83cda3a0>"
      ]
     },
     "execution_count": 55,
     "metadata": {},
     "output_type": "execute_result"
    },
    {
     "data": {
      "image/png": "[encoded data removed]",
      "text/plain": [
       "<Figure size 432x288 with 1 Axes>"
      ]
     },
     "metadata": {
      "needs_background": "light"
     },
     "output_type": "display_data"
    }
   ],
   "source": [
    "#There are outliers in PERSONCOUNT\n",
    "sns.boxplot(y='PERSONCOUNT',x='SEVERITYCODE',data=accident_df)"
   ]
  },
  {
   "cell_type": "code",
   "execution_count": 56,
   "metadata": {},
   "outputs": [
    {
     "data": {
      "text/html": [
       "<div>\n",
       "<style scoped>\n",
       "    .dataframe tbody tr th:only-of-type {\n",
       "        vertical-align: middle;\n",
       "    }\n",
       "\n",
       "    .dataframe tbody tr th {\n",
       "        vertical-align: top;\n",
       "    }\n",
       "\n",
       "    .dataframe thead th {\n",
       "        text-align: right;\n",
       "    }\n",
       "</style>\n",
       "<table border=\"1\" class=\"dataframe\">\n",
       "  <thead>\n",
       "    <tr style=\"text-align: right;\">\n",
       "      <th></th>\n",
       "      <th>PERSONCOUNT</th>\n",
       "      <th>PEDCOUNT</th>\n",
       "      <th>PEDCYLCOUNT</th>\n",
       "      <th>VEHCOUNT</th>\n",
       "    </tr>\n",
       "    <tr>\n",
       "      <th>SEVERITYCODE</th>\n",
       "      <th></th>\n",
       "      <th></th>\n",
       "      <th></th>\n",
       "      <th></th>\n",
       "    </tr>\n",
       "  </thead>\n",
       "  <tbody>\n",
       "    <tr>\n",
       "      <th>1</th>\n",
       "      <td>2.329348</td>\n",
       "      <td>0.005268</td>\n",
       "      <td>0.004975</td>\n",
       "      <td>1.943312</td>\n",
       "    </tr>\n",
       "    <tr>\n",
       "      <th>2</th>\n",
       "      <td>2.714357</td>\n",
       "      <td>0.111896</td>\n",
       "      <td>0.083316</td>\n",
       "      <td>1.867928</td>\n",
       "    </tr>\n",
       "  </tbody>\n",
       "</table>\n",
       "</div>"
      ],
      "text/plain": [
       "              PERSONCOUNT  PEDCOUNT  PEDCYLCOUNT  VEHCOUNT\n",
       "SEVERITYCODE                                              \n",
       "1                2.329348  0.005268     0.004975  1.943312\n",
       "2                2.714357  0.111896     0.083316  1.867928"
      ]
     },
     "execution_count": 56,
     "metadata": {},
     "output_type": "execute_result"
    }
   ],
   "source": [
    "accident_df.groupby(['SEVERITYCODE'])['PERSONCOUNT','PEDCOUNT','PEDCYLCOUNT','VEHCOUNT'].agg('mean')"
   ]
  },
  {
   "cell_type": "code",
   "execution_count": 57,
   "metadata": {},
   "outputs": [],
   "source": [
    "accident_df['SEVERITYCODE'].replace(1,0,inplace=True)\n",
    "accident_df['SEVERITYCODE'].replace(2,1,inplace=True)"
   ]
  },
  {
   "cell_type": "code",
   "execution_count": 58,
   "metadata": {},
   "outputs": [],
   "source": [
    "#Feature Selection\n",
    "columns=['ADDRTYPE','JUNCTIONTYPE','INATTENTIONIND','UNDERINFL','WEATHER','ROADCOND','LIGHTCOND',\n",
    "         'PEDROWNOTGRNT','SDOT_COLCODE','SPEEDING','SEVERITYCODE']\n",
    "columns_map=['ADDRTYPE','JUNCTIONTYPE','INATTENTIONIND','UNDERINFL','WEATHER','ROADCOND','LIGHTCOND',\n",
    "         'PEDROWNOTGRNT','SDOT_COLCODE','SPEEDING','SEVERITYCODE','X','Y']"
   ]
  },
  {
   "cell_type": "code",
   "execution_count": 59,
   "metadata": {},
   "outputs": [],
   "source": [
    "accident_df_final=accident_df[columns]"
   ]
  },
  {
   "cell_type": "code",
   "execution_count": 60,
   "metadata": {},
   "outputs": [
    {
     "data": {
      "text/plain": [
       "(182914, 11)"
      ]
     },
     "execution_count": 60,
     "metadata": {},
     "output_type": "execute_result"
    }
   ],
   "source": [
    "blank_row=accident_df_final.isnull().sum(axis=1)\n",
    "accident_df_final=accident_df_final[blank_row==0]\n",
    "accident_df_final.shape"
   ]
  },
  {
   "cell_type": "code",
   "execution_count": 61,
   "metadata": {},
   "outputs": [
    {
     "name": "stdout",
     "output_type": "stream",
     "text": [
      "<class 'pandas.core.frame.DataFrame'>\n",
      "Int64Index: 182914 entries, 0 to 194672\n",
      "Data columns (total 11 columns):\n",
      " #   Column          Non-Null Count   Dtype  \n",
      "---  ------          --------------   -----  \n",
      " 0   ADDRTYPE        182914 non-null  float64\n",
      " 1   JUNCTIONTYPE    182914 non-null  float64\n",
      " 2   INATTENTIONIND  182914 non-null  float64\n",
      " 3   UNDERINFL       182914 non-null  int64  \n",
      " 4   WEATHER         182914 non-null  float64\n",
      " 5   ROADCOND        182914 non-null  float64\n",
      " 6   LIGHTCOND       182914 non-null  float64\n",
      " 7   PEDROWNOTGRNT   182914 non-null  float64\n",
      " 8   SDOT_COLCODE    182914 non-null  int64  \n",
      " 9   SPEEDING        182914 non-null  float64\n",
      " 10  SEVERITYCODE    182914 non-null  int64  \n",
      "dtypes: float64(8), int64(3)\n",
      "memory usage: 16.7 MB\n"
     ]
    }
   ],
   "source": [
    "accident_df_final.info()"
   ]
  },
  {
   "cell_type": "code",
   "execution_count": null,
   "metadata": {},
   "outputs": [],
   "source": []
  },
  {
   "cell_type": "code",
   "execution_count": null,
   "metadata": {},
   "outputs": [],
   "source": [
    "import folium\n",
    "import webbrowser\n",
    "from folium import plugins"
   ]
  },
  {
   "cell_type": "code",
   "execution_count": null,
   "metadata": {},
   "outputs": [],
   "source": [
    "#Folium Map\n",
    "# let's start again with a clean copy of the map\n",
    "seattle_map = folium.Map(location=[47.61536892, -122.3302243], zoom_start=10)"
   ]
  },
  {
   "cell_type": "code",
   "execution_count": null,
   "metadata": {},
   "outputs": [],
   "source": [
    "# instantiate a mark cluster object for the incidents in the dataframe\n",
    "incidents = plugins.MarkerCluster().add_to(seattle_map)\n",
    "accident_location=accident_df[~accident_df['X'].isnull()]\n",
    "\n",
    "\n",
    "# loop through the dataframe and add each data point to the mark cluster\n",
    "for lat, lng, label, in zip(accident_location.Y, accident_location.X, accident_location.SEVERITYCODE):\n",
    "    folium.Marker(\n",
    "    location=[lat, lng],\n",
    "    icon=None,\n",
    "    ).add_to(incidents)\n",
    "\n",
    "seattle_map.add_child(incidents)"
   ]
  },
  {
   "cell_type": "code",
   "execution_count": null,
   "metadata": {},
   "outputs": [],
   "source": [
    "#most variables correlation seem fine\n",
    "plt.figure(figsize=(20,15))\n",
    "sns.heatmap(accident_df.corr(),cmap='YlGnBu',annot=True)"
   ]
  },
  {
   "cell_type": "code",
   "execution_count": null,
   "metadata": {},
   "outputs": [],
   "source": [
    "sns.pairplot(accident_df,diag_kind='kde')"
   ]
  },
  {
   "cell_type": "code",
   "execution_count": null,
   "metadata": {},
   "outputs": [],
   "source": [
    "columns=[]"
   ]
  },
  {
   "cell_type": "code",
   "execution_count": null,
   "metadata": {},
   "outputs": [],
   "source": [
    "blank_row=accident_df.isnull().sum(axis=1)\n",
    "blank_row.value_counts().sort_index()"
   ]
  },
  {
   "cell_type": "code",
   "execution_count": null,
   "metadata": {},
   "outputs": [],
   "source": [
    "accident_df.shape"
   ]
  }
 ],
 "metadata": {
  "kernelspec": {
   "display_name": "Python 3",
   "language": "python",
   "name": "python3"
  },
  "language_info": {
   "codemirror_mode": {
    "name": "ipython",
    "version": 3
   },
   "file_extension": ".py",
   "mimetype": "text/x-python",
   "name": "python",
   "nbconvert_exporter": "python",
   "pygments_lexer": "ipython3",
   "version": "3.8.3"
  }
 },
 "nbformat": 4,
 "nbformat_minor": 4
}
